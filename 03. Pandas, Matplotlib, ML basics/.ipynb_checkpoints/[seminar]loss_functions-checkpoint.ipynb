{
 "cells": [
  {
   "cell_type": "markdown",
   "metadata": {
    "colab_type": "text",
    "id": "Y_s28YzI8IBD"
   },
   "source": [
    "<p style=\"align: center;\"><img src=\"https://static.tildacdn.com/tild6636-3531-4239-b465-376364646465/Deep_Learning_School.png\" width=\"300\"></p>\n",
    "\n",
    "<h3 style=\"text-align: center;\"><b>Физтех-Школа Прикладной математики и информатики (ФПМИ) МФТИ</b></h3>"
   ]
  },
  {
   "cell_type": "markdown",
   "metadata": {
    "colab_type": "text",
    "id": "H3N0Tchv8IBF"
   },
   "source": [
    "---"
   ]
  },
  {
   "cell_type": "markdown",
   "metadata": {
    "colab_type": "text",
    "id": "AxCV20lq8IBH"
   },
   "source": [
    "<h2 style=\"text-align: center;\"><b>Типы функций потерь ($loss$) в задачах машинного обучения</b></h2>"
   ]
  },
  {
   "cell_type": "markdown",
   "metadata": {
    "colab_type": "text",
    "id": "JImai3c78IBJ"
   },
   "source": [
    "Когда мы обучаем какой-либо алгоритм машинного обучения, мы должны задать как минимум 3 вещи:  \n",
    "\n",
    "- дать алгоритму **данные**\n",
    "- выбрать алгоритм **оптимизации**\n",
    "- выбрать **функцию потерь ($loss$)**"
   ]
  },
  {
   "cell_type": "markdown",
   "metadata": {
    "colab_type": "text",
    "id": "3WQmQ-bp8IBK"
   },
   "source": [
    "Допустим, что данные уже есть и алгоритм оптимизации выбран. Рассмотрим типы задач машинного обучения и связанные с ними функции потерь."
   ]
  },
  {
   "cell_type": "markdown",
   "metadata": {
    "colab_type": "text",
    "id": "3NjSX1_F8IBM"
   },
   "source": [
    "* Неформальное определение функции потерь:"
   ]
  },
  {
   "cell_type": "markdown",
   "metadata": {
    "colab_type": "text",
    "id": "sZi9KpuX8IBN"
   },
   "source": [
    "***Функция потерь*** -- это функция, которая принимает на вход предсказания модели и истинные значения целевого признака, а возвращает неотрицательное число, характеризующее то, насколько хорошо наша модель предсказывает целевой признак. Функция потерь всегда зависит от задачи (точнее -- от типа предсказываемого признака)."
   ]
  },
  {
   "cell_type": "markdown",
   "metadata": {
    "colab_type": "text",
    "id": "ah5TjmuL8IBO"
   },
   "source": [
    "* Формальное определение:  \n",
    "\n",
    "Функция потерь - это функция $L: V \\times V \\to \\mathbb{R}^+$, где множество $V$ зависит от задачи."
   ]
  },
  {
   "cell_type": "markdown",
   "metadata": {
    "colab_type": "text",
    "id": "v-KCi0bD8IBP"
   },
   "source": [
    "Рассмотрим 3 задачи:  \n",
    "- задача регрессии ($y \\in \\mathbb{R}$)\n",
    "- бинарная классификация (на 2 класса)  \n",
    "- многоклассовая классификация (на $K$ классов)  "
   ]
  },
  {
   "cell_type": "markdown",
   "metadata": {
    "colab_type": "text",
    "id": "_dyxOuM98IBR"
   },
   "source": [
    "**Чем лучше предсказывает модель, тем меньше значеия функции потерь. Чем модель хуже, тем значения функции потерь больше.**"
   ]
  },
  {
   "cell_type": "markdown",
   "metadata": {
    "colab_type": "text",
    "id": "4rI7H6r48IBS"
   },
   "source": [
    "<h3 style=\"text-align: center;\"><b>Задача регрессии</b></h3>"
   ]
  },
  {
   "cell_type": "markdown",
   "metadata": {
    "colab_type": "text",
    "id": "16hFIp2f8IBT"
   },
   "source": [
    "В задачах регрессии выделяют две основные функции потерь:"
   ]
  },
  {
   "cell_type": "markdown",
   "metadata": {
    "colab_type": "text",
    "id": "VbZwAJ4D8IBU"
   },
   "source": [
    "1). **Квадратичная функция потерь**:  \n",
    "\n",
    "$$L(\\hat{y}, y) = (\\hat{y} - y)^2, ~~~~~\\hat{y}, y \\in \\mathbb{R}$$\n",
    "\n",
    "Если записывать для всей выборки $(X, y)$, где $X$ -- матрица объекты-принаки размера $(n, m)$, а y - столбец истинных ответов размера $(n, 1)$, то:\n",
    "\n",
    "$$L(\\hat{y}, y) = \\frac{1}{n} \\sum_{i=1}^n (\\hat{y}_i - y_i)^2$$\n",
    "\n",
    "-- в этом случае её ещё называют **среднеквадратичная ошибка (Mean Squared Error (MSE, MSELoss))**."
   ]
  },
  {
   "cell_type": "markdown",
   "metadata": {
    "colab_type": "text",
    "id": "sZ1AXnsf8IBV"
   },
   "source": [
    "2). **Абсолютная функция потерь**:  \n",
    "\n",
    "$$L(\\hat{y}, y) = |\\hat{y} - y|, ~~~~~\\hat{y}, y \\in \\mathbb{R}$$\n",
    "\n",
    "Если записывать для всей выборки $(X, y)$, где $X$ -- матрица объекты-принаки размера $(n, m)$, а y - столбец истинных ответов размера $(n, 1)$, то:\n",
    "\n",
    "$$L(\\hat{y}, y) = \\frac{1}{n} \\sum_{i=1}^n |\\hat{y}_i - y_i|$$\n",
    "\n",
    "-- в этом случае её ещё называют **средняя абсолютная ошибка (Mean Absolute Error (MAE, MAELoss))**."
   ]
  },
  {
   "cell_type": "markdown",
   "metadata": {
    "colab_type": "text",
    "id": "Tgs7Vfj68IBW"
   },
   "source": [
    "<h3 style=\"text-align: center;\"><b>Бинарная классификация</b></h3>"
   ]
  },
  {
   "cell_type": "markdown",
   "metadata": {
    "colab_type": "text",
    "id": "9hQ8Gd5h8IBX"
   },
   "source": [
    "В задачах бинарной классификации иногда тоже используют среднеквадратичную ошибку, однако, например, когда в качестве модели будет выступать *нейрон с сигмоидой (= логистическая регрессия)*, будут некоторые проблемы (см. ноутбук [nn]neuron_logloss.ipynb), поэтому чаще всё-таки используют так называемый $LogLoss$ (или логистическая функция потерь):  \n",
    "\n",
    "$$L(\\hat{y}, y) = -\\frac{1}{n} \\sum_{i=1}^n y_i \\log(\\hat{y_i}) + (1 - y_i) \\log(1 - \\hat{y_i}))$$"
   ]
  },
  {
   "cell_type": "markdown",
   "metadata": {
    "colab_type": "text",
    "id": "PAkv227Y8IBZ"
   },
   "source": [
    "(тут записано уже сразу по всей выборке)."
   ]
  },
  {
   "cell_type": "markdown",
   "metadata": {
    "colab_type": "text",
    "id": "N0ydE2By8IBa"
   },
   "source": [
    "$LogLoss$ чаще всего используют в случае, когда в качестве $\\hat{y}_i$ мы предсказываем вероятность принадлежности к одному из классов, а $y_i \\in \\{0, 1\\}$."
   ]
  },
  {
   "cell_type": "markdown",
   "metadata": {
    "colab_type": "text",
    "id": "Iykjmalr8IBb"
   },
   "source": [
    "<h3 style=\"text-align: center;\"><b>Многоклассовая классификация</b></h3>"
   ]
  },
  {
   "cell_type": "markdown",
   "metadata": {
    "colab_type": "text",
    "id": "v8zlZCvA8IBd"
   },
   "source": [
    "Сначала вспомним, как кодируют целевую переменную в случае многоклассовой классификации.  "
   ]
  },
  {
   "cell_type": "markdown",
   "metadata": {
    "colab_type": "text",
    "id": "K_KKnCuB8IBe"
   },
   "source": [
    "Изначально целевой переменной $y$ (классом, который хотим предсказать) может быть и вовсе какая-нибудь строка ('cat', 'dog', 'human'). Такие метки и признаки называют **категориальными**. В этом случае стоит закодировать $y$ просто последовательными неотрицательными числами:  \n",
    "\n",
    "'cat' $\\to$ 0  \n",
    "'dog' $\\to$ 1  \n",
    "'human' $\\to$ 2  \n",
    "\n",
    "В случае $K$ классов будет $K$ различных числовых значений. Это называется ***LabelEncoding*** (перевод категорий в числовые метки)."
   ]
  },
  {
   "cell_type": "markdown",
   "metadata": {
    "colab_type": "text",
    "id": "YoEG2nEI8IBh"
   },
   "source": [
    "Однако заметим, что такое LabelEncoding задаёт на классах **отношение порядка**, то есть мы, например, можем сказать, что 'human' (2) > 'cat' (0) в данном случае. Это неправильно, поскольку это сравнение некорректно и может привести к непредсказуемымому результату."
   ]
  },
  {
   "cell_type": "markdown",
   "metadata": {
    "colab_type": "text",
    "id": "7Ye6P0DZ8IBi"
   },
   "source": [
    "Поэтому после LabelEncoding'а всегда применяют ***OneHotEncoding***:  \n",
    "\n",
    "0 $\\to$ (1, 0, 0)  \n",
    "1 $\\to$ (0, 1, 0)  \n",
    "2 $\\to$ (0, 0, 1)"
   ]
  },
  {
   "cell_type": "markdown",
   "metadata": {
    "colab_type": "text",
    "id": "wi5vxEJ_8IBj"
   },
   "source": [
    "То есть преобразуют числовое значение класса в строку размера $(1, K)$, где $K$ -- количество классов (в данном случае их 3, поэтому строка длины 3)."
   ]
  },
  {
   "cell_type": "markdown",
   "metadata": {
    "colab_type": "text",
    "id": "Pu-CD_MU8IBl"
   },
   "source": [
    "Тогда предобработка категориальной метки  $y$ такая: \n",
    "- изначальный **столбец меток $y$ размера $(n, 1)$** переходит в **столбец чисел $y_{LabelEncoded}$ размера $(n, 1)$** \n",
    "- столбец $y_{LabelEncoded}$ переходит **в матрицу из 0 и 1 $y_{OneHotEncoded}$ размера $(n, K)$** "
   ]
  },
  {
   "cell_type": "markdown",
   "metadata": {
    "colab_type": "text",
    "id": "D8LjmWam8IBp"
   },
   "source": [
    "С $\\hat{y}$ -- предсказаниями модели -- та же ситуация, только обычно предсказываются сначала вероятности принадлежности к каждому из классов, а потом уже среди них берётся наибольшая и на её месте ставится 1 в строке, а на месте остальных вероятностей ставится 0."
   ]
  },
  {
   "cell_type": "markdown",
   "metadata": {
    "colab_type": "text",
    "id": "UqbcQfBt8IBr"
   },
   "source": [
    "---"
   ]
  },
  {
   "cell_type": "markdown",
   "metadata": {
    "colab_type": "text",
    "id": "Qz0n44hS8IBv"
   },
   "source": [
    "*Небольшое отступление про Softmax*: как, имея строку значений $(a_1, a_2, ..., a_K)$, привести все их значения к диапазону $[0, 1]$ так, чтобы в сумме они давали единицу (то есть чтобы можно было интерпретровать значения как вероятности)? Для этого существует (один из способов) функция под названием $Softmax$:  \n",
    "\n",
    "$$Softmax((a_1, a_2, ..., a_K))_i = \\frac{e^{a_i}}{\\sum_{j=1}^K e^{a_j}}$$"
   ]
  },
  {
   "cell_type": "markdown",
   "metadata": {
    "colab_type": "text",
    "id": "YXNDj2Gi8IBz"
   },
   "source": [
    "**Упражение:** убедитесь, что сумма этих значений будет давать в сумме единицу."
   ]
  },
  {
   "cell_type": "markdown",
   "metadata": {
    "colab_type": "text",
    "id": "uvAvDQse8IB2"
   },
   "source": [
    "То есть строка $(a_1, a_2, ..., a_K)$ переходит в строку:  \n",
    "\n",
    "$$(a_1, a_2, ..., a_K) \\to \\left(\\frac{e^{a_1}}{\\sum_{j=1}^K e^{a_j}}, \\frac{e^{a_2}}{\\sum_{j=1}^K e^{a_j}}, ..., \\frac{e^{a_K}}{\\sum_{j=1}^K e^{a_j}}\\right)$$"
   ]
  },
  {
   "cell_type": "markdown",
   "metadata": {
    "colab_type": "text",
    "id": "xNH8vr778IB3"
   },
   "source": [
    "---"
   ]
  },
  {
   "cell_type": "markdown",
   "metadata": {
    "colab_type": "text",
    "id": "95U2Q_bh8IB4"
   },
   "source": [
    "В задаче многоклассовой классификации чаще всего пользуются функцией под названиаем $CrossEntropy$ -- кросс-энтропия:  \n",
    "\n",
    "$$L(\\hat{y}, y) = -\\frac{1}{n} \\sum_{i=1}^n \\sum_{j=1}^K y_{ij} \\log(\\hat{y_{ij}})$$  \n",
    "\n",
    "где $y$ -- матрица $(n, K)$ истинных значений классов объектов (закодированная OneHot'ом), а $\\hat{y}$ -- матрица $(n, K)$ предсказаний модели ($\\hat{y}_{ij}$ -- \"вероятность\" принадлежности $i$-го объекта к $j$-му классу)"
   ]
  },
  {
   "cell_type": "markdown",
   "metadata": {
    "colab_type": "text",
    "id": "EE9rqaND8IB5"
   },
   "source": [
    "<h3 style=\"text-align: center;\"><b>Важно</b></h3>"
   ]
  },
  {
   "cell_type": "markdown",
   "metadata": {
    "colab_type": "text",
    "id": "IsZcpo1J8IB6"
   },
   "source": [
    "В данном ноутбуке перечислены далеко не все функции потерь и описаны далеко не все задачи машинного обучения, а лишь 3 конкретных. Более подробно про функции потерь в других задачах и об ML в целом можно больше узнать на курсах, таких, как, например, [курс Воронцова К.В.](https://www.youtube.com/playlist?list=PLJOzdkh8T5kp99tGTEFjH_b9zqEQiiBtC)."
   ]
  },
  {
   "cell_type": "markdown",
   "metadata": {
    "colab_type": "text",
    "id": "I0njZv2u8IB7"
   },
   "source": [
    "<h3 style=\"text-align: center;\"><b>Полезные ссылки</b></h3>"
   ]
  },
  {
   "cell_type": "markdown",
   "metadata": {
    "colab_type": "text",
    "id": "HAINFtXX8IB8"
   },
   "source": [
    "1). [Вики-страничка по функциям потерь](http://ru.learnmachinelearning.wikia.com/wiki/%D0%A4%D1%83%D0%BD%D0%BA%D1%86%D0%B8%D1%8F_%D0%BF%D0%BE%D1%82%D0%B5%D1%80%D1%8C_(Loss_function) (информации немного, но зато упомянуты другие функции потерь)"
   ]
  },
  {
   "cell_type": "markdown",
   "metadata": {
    "colab_type": "text",
    "id": "rUtqypey8IB9"
   },
   "source": [
    "2). Github с очень большим количеством полезных материалов по Machine Learning: https://github.com/demidovakatya/vvedenie-mashinnoe-obuchenie"
   ]
  },
  {
   "cell_type": "markdown",
   "metadata": {},
   "source": []
  },
  {
   "cell_type": "markdown",
   "metadata": {},
   "source": [
    "# Практическая часть (моя версия)"
   ]
  },
  {
   "cell_type": "code",
   "execution_count": 33,
   "metadata": {
    "ExecuteTime": {
     "end_time": "2020-07-08T10:28:13.773612Z",
     "start_time": "2020-07-08T10:28:13.747295Z"
    },
    "collapsed": true
   },
   "outputs": [],
   "source": [
    "import pandas as pd\n",
    "import numpy as np\n",
    "import matplotlib.pyplot as plt\n",
    "data = pd.read_csv('./app-store-apple-data-set-10k-apps/AppleStore.csv')"
   ]
  },
  {
   "cell_type": "code",
   "execution_count": 34,
   "metadata": {
    "ExecuteTime": {
     "end_time": "2020-07-08T10:28:14.496066Z",
     "start_time": "2020-07-08T10:28:14.491149Z"
    }
   },
   "outputs": [
    {
     "data": {
      "text/plain": [
       "Index(['Unnamed: 0', 'id', 'track_name', 'size_bytes', 'currency', 'price',\n",
       "       'rating_count_tot', 'rating_count_ver', 'user_rating',\n",
       "       'user_rating_ver', 'ver', 'cont_rating', 'prime_genre',\n",
       "       'sup_devices.num', 'ipadSc_urls.num', 'lang.num', 'vpp_lic'],\n",
       "      dtype='object')"
      ]
     },
     "execution_count": 34,
     "metadata": {},
     "output_type": "execute_result"
    }
   ],
   "source": [
    "data.columns"
   ]
  },
  {
   "cell_type": "code",
   "execution_count": 35,
   "metadata": {
    "ExecuteTime": {
     "end_time": "2020-07-08T10:28:15.352429Z",
     "start_time": "2020-07-08T10:28:15.347257Z"
    },
    "collapsed": true
   },
   "outputs": [],
   "source": [
    "num_cols = ['size_bytes', 'price', 'rating_count_tot', 'rating_count_ver', 'sup_devices.num', 'ipadSc_urls.num', 'lang.num', 'cont_rating']\n",
    "cat_cols = ['currency', 'prime_genre']\n",
    "target_col = ['user_rating']\n",
    "cols = num_cols + cat_cols  + target_col"
   ]
  },
  {
   "cell_type": "code",
   "execution_count": 38,
   "metadata": {
    "ExecuteTime": {
     "end_time": "2020-07-08T10:28:42.092751Z",
     "start_time": "2020-07-08T10:28:42.080789Z"
    }
   },
   "outputs": [
    {
     "data": {
      "text/plain": [
       "0     4\n",
       "1     4\n",
       "2     4\n",
       "3    12\n",
       "4     4\n",
       "Name: cont_rating, dtype: int64"
      ]
     },
     "execution_count": 38,
     "metadata": {},
     "output_type": "execute_result"
    }
   ],
   "source": [
    "data = data[cols]\n",
    "data1 = data['cont_rating'].str.slice(0,-1).astype(int)\n",
    "data1.head()"
   ]
  },
  {
   "cell_type": "code",
   "execution_count": 49,
   "metadata": {
    "ExecuteTime": {
     "end_time": "2020-07-08T10:41:36.137207Z",
     "start_time": "2020-07-08T10:41:36.129014Z"
    }
   },
   "outputs": [
    {
     "data": {
      "text/plain": [
       "size_bytes          0.0\n",
       "price               0.0\n",
       "rating_count_tot    0.0\n",
       "rating_count_ver    0.0\n",
       "sup_devices.num     0.0\n",
       "ipadSc_urls.num     0.0\n",
       "lang.num            0.0\n",
       "cont_rating         0.0\n",
       "currency            0.0\n",
       "prime_genre         0.0\n",
       "user_rating         0.0\n",
       "dtype: float64"
      ]
     },
     "execution_count": 49,
     "metadata": {},
     "output_type": "execute_result"
    }
   ],
   "source": [
    "data.isna().mean()"
   ]
  },
  {
   "cell_type": "code",
   "execution_count": 53,
   "metadata": {
    "ExecuteTime": {
     "end_time": "2020-07-08T10:44:44.271206Z",
     "start_time": "2020-07-08T10:44:44.259143Z"
    }
   },
   "outputs": [
    {
     "name": "stdout",
     "output_type": "stream",
     "text": [
      "currency distribution\n",
      "USD    7197\n",
      "Name: currency, dtype: int64\n",
      "\n",
      "\n",
      "prime_genre distribution\n",
      "Games                3862\n",
      "Entertainment         535\n",
      "Education             453\n",
      "Photo & Video         349\n",
      "Utilities             248\n",
      "Health & Fitness      180\n",
      "Productivity          178\n",
      "Social Networking     167\n",
      "Lifestyle             144\n",
      "Music                 138\n",
      "Shopping              122\n",
      "Sports                114\n",
      "Book                  112\n",
      "Finance               104\n",
      "Travel                 81\n",
      "News                   75\n",
      "Weather                72\n",
      "Reference              64\n",
      "Food & Drink           63\n",
      "Business               57\n",
      "Navigation             46\n",
      "Medical                23\n",
      "Catalogs               10\n",
      "Name: prime_genre, dtype: int64\n",
      "\n",
      "\n"
     ]
    }
   ],
   "source": [
    " for col in cat_cols:\n",
    "    print(f\"{col} distribution\")\n",
    "    print(data[col].value_counts())\n",
    "    print('\\n')"
   ]
  },
  {
   "cell_type": "code",
   "execution_count": 57,
   "metadata": {
    "ExecuteTime": {
     "end_time": "2020-07-08T10:47:04.270654Z",
     "start_time": "2020-07-08T10:47:04.267072Z"
    }
   },
   "outputs": [],
   "source": [
    "data = data.drop(columns = ['currency'])\n",
    "cat_cols.remove('currency')"
   ]
  },
  {
   "cell_type": "code",
   "execution_count": 59,
   "metadata": {
    "ExecuteTime": {
     "end_time": "2020-07-08T10:47:14.366666Z",
     "start_time": "2020-07-08T10:47:14.361900Z"
    }
   },
   "outputs": [
    {
     "data": {
      "text/plain": [
       "['prime_genre']"
      ]
     },
     "execution_count": 59,
     "metadata": {},
     "output_type": "execute_result"
    }
   ],
   "source": [
    "cat_cols"
   ]
  },
  {
   "cell_type": "code",
   "execution_count": 65,
   "metadata": {
    "ExecuteTime": {
     "end_time": "2020-07-08T10:59:24.867940Z",
     "start_time": "2020-07-08T10:59:23.643993Z"
    }
   },
   "outputs": [
    {
     "data": {
      "image/png": "[encoded data removed]",
      "text/plain": [
       "<matplotlib.figure.Figure at 0x115066588>"
      ]
     },
     "metadata": {},
     "output_type": "display_data"
    },
    {
     "data": {
      "image/png": "[encoded data removed]",
      "text/plain": [
       "<matplotlib.figure.Figure at 0x1153eaa58>"
      ]
     },
     "metadata": {},
     "output_type": "display_data"
    }
   ],
   "source": [
    "data.hist(column=num_cols + target_col, figsize  =  (14,10))\n",
    "plt.show()"
   ]
  },
  {
   "cell_type": "code",
   "execution_count": 68,
   "metadata": {
    "ExecuteTime": {
     "end_time": "2020-07-08T11:01:35.292927Z",
     "start_time": "2020-07-08T11:01:35.225261Z"
    }
   },
   "outputs": [
    {
     "data": {
      "text/html": [
       "<style  type=\"text/css\" >\n",
       "    #T_63936ecc_c10a_11ea_9f20_8c859032ae4erow0_col0 {\n",
       "            background-color:  #b40426;\n",
       "            color:  #f1f1f1;\n",
       "        }    #T_63936ecc_c10a_11ea_9f20_8c859032ae4erow0_col1 {\n",
       "            background-color:  #93b5fe;\n",
       "            color:  #000000;\n",
       "        }    #T_63936ecc_c10a_11ea_9f20_8c859032ae4erow0_col2 {\n",
       "            background-color:  #465ecf;\n",
       "            color:  #f1f1f1;\n",
       "        }    #T_63936ecc_c10a_11ea_9f20_8c859032ae4erow0_col3 {\n",
       "            background-color:  #4257c9;\n",
       "            color:  #f1f1f1;\n",
       "        }    #T_63936ecc_c10a_11ea_9f20_8c859032ae4erow0_col4 {\n",
       "            background-color:  #3b4cc0;\n",
       "            color:  #f1f1f1;\n",
       "        }    #T_63936ecc_c10a_11ea_9f20_8c859032ae4erow0_col5 {\n",
       "            background-color:  #7597f6;\n",
       "            color:  #000000;\n",
       "        }    #T_63936ecc_c10a_11ea_9f20_8c859032ae4erow0_col6 {\n",
       "            background-color:  #485fd1;\n",
       "            color:  #f1f1f1;\n",
       "        }    #T_63936ecc_c10a_11ea_9f20_8c859032ae4erow0_col7 {\n",
       "            background-color:  #5a78e4;\n",
       "            color:  #000000;\n",
       "        }    #T_63936ecc_c10a_11ea_9f20_8c859032ae4erow1_col0 {\n",
       "            background-color:  #93b5fe;\n",
       "            color:  #000000;\n",
       "        }    #T_63936ecc_c10a_11ea_9f20_8c859032ae4erow1_col1 {\n",
       "            background-color:  #b40426;\n",
       "            color:  #f1f1f1;\n",
       "        }    #T_63936ecc_c10a_11ea_9f20_8c859032ae4erow1_col2 {\n",
       "            background-color:  #3b4cc0;\n",
       "            color:  #f1f1f1;\n",
       "        }    #T_63936ecc_c10a_11ea_9f20_8c859032ae4erow1_col3 {\n",
       "            background-color:  #3b4cc0;\n",
       "            color:  #f1f1f1;\n",
       "        }    #T_63936ecc_c10a_11ea_9f20_8c859032ae4erow1_col4 {\n",
       "            background-color:  #3b4cc0;\n",
       "            color:  #f1f1f1;\n",
       "        }    #T_63936ecc_c10a_11ea_9f20_8c859032ae4erow1_col5 {\n",
       "            background-color:  #5977e3;\n",
       "            color:  #000000;\n",
       "        }    #T_63936ecc_c10a_11ea_9f20_8c859032ae4erow1_col6 {\n",
       "            background-color:  #445acc;\n",
       "            color:  #f1f1f1;\n",
       "        }    #T_63936ecc_c10a_11ea_9f20_8c859032ae4erow1_col7 {\n",
       "            background-color:  #5470de;\n",
       "            color:  #000000;\n",
       "        }    #T_63936ecc_c10a_11ea_9f20_8c859032ae4erow2_col0 {\n",
       "            background-color:  #5d7ce6;\n",
       "            color:  #000000;\n",
       "        }    #T_63936ecc_c10a_11ea_9f20_8c859032ae4erow2_col1 {\n",
       "            background-color:  #4f69d9;\n",
       "            color:  #000000;\n",
       "        }    #T_63936ecc_c10a_11ea_9f20_8c859032ae4erow2_col2 {\n",
       "            background-color:  #b40426;\n",
       "            color:  #f1f1f1;\n",
       "        }    #T_63936ecc_c10a_11ea_9f20_8c859032ae4erow2_col3 {\n",
       "            background-color:  #7396f5;\n",
       "            color:  #000000;\n",
       "        }    #T_63936ecc_c10a_11ea_9f20_8c859032ae4erow2_col4 {\n",
       "            background-color:  #5e7de7;\n",
       "            color:  #000000;\n",
       "        }    #T_63936ecc_c10a_11ea_9f20_8c859032ae4erow2_col5 {\n",
       "            background-color:  #4a63d3;\n",
       "            color:  #f1f1f1;\n",
       "        }    #T_63936ecc_c10a_11ea_9f20_8c859032ae4erow2_col6 {\n",
       "            background-color:  #7295f4;\n",
       "            color:  #000000;\n",
       "        }    #T_63936ecc_c10a_11ea_9f20_8c859032ae4erow2_col7 {\n",
       "            background-color:  #5f7fe8;\n",
       "            color:  #000000;\n",
       "        }    #T_63936ecc_c10a_11ea_9f20_8c859032ae4erow3_col0 {\n",
       "            background-color:  #5d7ce6;\n",
       "            color:  #000000;\n",
       "        }    #T_63936ecc_c10a_11ea_9f20_8c859032ae4erow3_col1 {\n",
       "            background-color:  #5572df;\n",
       "            color:  #000000;\n",
       "        }    #T_63936ecc_c10a_11ea_9f20_8c859032ae4erow3_col2 {\n",
       "            background-color:  #799cf8;\n",
       "            color:  #000000;\n",
       "        }    #T_63936ecc_c10a_11ea_9f20_8c859032ae4erow3_col3 {\n",
       "            background-color:  #b40426;\n",
       "            color:  #f1f1f1;\n",
       "        }    #T_63936ecc_c10a_11ea_9f20_8c859032ae4erow3_col4 {\n",
       "            background-color:  #6687ed;\n",
       "            color:  #000000;\n",
       "        }    #T_63936ecc_c10a_11ea_9f20_8c859032ae4erow3_col5 {\n",
       "            background-color:  #4c66d6;\n",
       "            color:  #000000;\n",
       "        }    #T_63936ecc_c10a_11ea_9f20_8c859032ae4erow3_col6 {\n",
       "            background-color:  #4a63d3;\n",
       "            color:  #f1f1f1;\n",
       "        }    #T_63936ecc_c10a_11ea_9f20_8c859032ae4erow3_col7 {\n",
       "            background-color:  #5b7ae5;\n",
       "            color:  #000000;\n",
       "        }    #T_63936ecc_c10a_11ea_9f20_8c859032ae4erow4_col0 {\n",
       "            background-color:  #3b4cc0;\n",
       "            color:  #f1f1f1;\n",
       "        }    #T_63936ecc_c10a_11ea_9f20_8c859032ae4erow4_col1 {\n",
       "            background-color:  #3b4cc0;\n",
       "            color:  #f1f1f1;\n",
       "        }    #T_63936ecc_c10a_11ea_9f20_8c859032ae4erow4_col2 {\n",
       "            background-color:  #485fd1;\n",
       "            color:  #f1f1f1;\n",
       "        }    #T_63936ecc_c10a_11ea_9f20_8c859032ae4erow4_col3 {\n",
       "            background-color:  #4b64d5;\n",
       "            color:  #f1f1f1;\n",
       "        }    #T_63936ecc_c10a_11ea_9f20_8c859032ae4erow4_col4 {\n",
       "            background-color:  #b40426;\n",
       "            color:  #f1f1f1;\n",
       "        }    #T_63936ecc_c10a_11ea_9f20_8c859032ae4erow4_col5 {\n",
       "            background-color:  #3b4cc0;\n",
       "            color:  #f1f1f1;\n",
       "        }    #T_63936ecc_c10a_11ea_9f20_8c859032ae4erow4_col6 {\n",
       "            background-color:  #3b4cc0;\n",
       "            color:  #f1f1f1;\n",
       "        }    #T_63936ecc_c10a_11ea_9f20_8c859032ae4erow4_col7 {\n",
       "            background-color:  #3b4cc0;\n",
       "            color:  #f1f1f1;\n",
       "        }    #T_63936ecc_c10a_11ea_9f20_8c859032ae4erow5_col0 {\n",
       "            background-color:  #8badfd;\n",
       "            color:  #000000;\n",
       "        }    #T_63936ecc_c10a_11ea_9f20_8c859032ae4erow5_col1 {\n",
       "            background-color:  #6e90f2;\n",
       "            color:  #000000;\n",
       "        }    #T_63936ecc_c10a_11ea_9f20_8c859032ae4erow5_col2 {\n",
       "            background-color:  #4a63d3;\n",
       "            color:  #f1f1f1;\n",
       "        }    #T_63936ecc_c10a_11ea_9f20_8c859032ae4erow5_col3 {\n",
       "            background-color:  #465ecf;\n",
       "            color:  #f1f1f1;\n",
       "        }    #T_63936ecc_c10a_11ea_9f20_8c859032ae4erow5_col4 {\n",
       "            background-color:  #506bda;\n",
       "            color:  #000000;\n",
       "        }    #T_63936ecc_c10a_11ea_9f20_8c859032ae4erow5_col5 {\n",
       "            background-color:  #b40426;\n",
       "            color:  #f1f1f1;\n",
       "        }    #T_63936ecc_c10a_11ea_9f20_8c859032ae4erow5_col6 {\n",
       "            background-color:  #6180e9;\n",
       "            color:  #000000;\n",
       "        }    #T_63936ecc_c10a_11ea_9f20_8c859032ae4erow5_col7 {\n",
       "            background-color:  #9dbdff;\n",
       "            color:  #000000;\n",
       "        }    #T_63936ecc_c10a_11ea_9f20_8c859032ae4erow6_col0 {\n",
       "            background-color:  #5d7ce6;\n",
       "            color:  #000000;\n",
       "        }    #T_63936ecc_c10a_11ea_9f20_8c859032ae4erow6_col1 {\n",
       "            background-color:  #5875e1;\n",
       "            color:  #000000;\n",
       "        }    #T_63936ecc_c10a_11ea_9f20_8c859032ae4erow6_col2 {\n",
       "            background-color:  #7093f3;\n",
       "            color:  #000000;\n",
       "        }    #T_63936ecc_c10a_11ea_9f20_8c859032ae4erow6_col3 {\n",
       "            background-color:  #4358cb;\n",
       "            color:  #f1f1f1;\n",
       "        }    #T_63936ecc_c10a_11ea_9f20_8c859032ae4erow6_col4 {\n",
       "            background-color:  #4f69d9;\n",
       "            color:  #000000;\n",
       "        }    #T_63936ecc_c10a_11ea_9f20_8c859032ae4erow6_col5 {\n",
       "            background-color:  #6180e9;\n",
       "            color:  #000000;\n",
       "        }    #T_63936ecc_c10a_11ea_9f20_8c859032ae4erow6_col6 {\n",
       "            background-color:  #b40426;\n",
       "            color:  #f1f1f1;\n",
       "        }    #T_63936ecc_c10a_11ea_9f20_8c859032ae4erow6_col7 {\n",
       "            background-color:  #7da0f9;\n",
       "            color:  #000000;\n",
       "        }    #T_63936ecc_c10a_11ea_9f20_8c859032ae4erow7_col0 {\n",
       "            background-color:  #6f92f3;\n",
       "            color:  #000000;\n",
       "        }    #T_63936ecc_c10a_11ea_9f20_8c859032ae4erow7_col1 {\n",
       "            background-color:  #688aef;\n",
       "            color:  #000000;\n",
       "        }    #T_63936ecc_c10a_11ea_9f20_8c859032ae4erow7_col2 {\n",
       "            background-color:  #5f7fe8;\n",
       "            color:  #000000;\n",
       "        }    #T_63936ecc_c10a_11ea_9f20_8c859032ae4erow7_col3 {\n",
       "            background-color:  #5470de;\n",
       "            color:  #000000;\n",
       "        }    #T_63936ecc_c10a_11ea_9f20_8c859032ae4erow7_col4 {\n",
       "            background-color:  #4f69d9;\n",
       "            color:  #000000;\n",
       "        }    #T_63936ecc_c10a_11ea_9f20_8c859032ae4erow7_col5 {\n",
       "            background-color:  #9bbcff;\n",
       "            color:  #000000;\n",
       "        }    #T_63936ecc_c10a_11ea_9f20_8c859032ae4erow7_col6 {\n",
       "            background-color:  #7da0f9;\n",
       "            color:  #000000;\n",
       "        }    #T_63936ecc_c10a_11ea_9f20_8c859032ae4erow7_col7 {\n",
       "            background-color:  #b40426;\n",
       "            color:  #f1f1f1;\n",
       "        }</style><table id=\"T_63936ecc_c10a_11ea_9f20_8c859032ae4e\" ><thead>    <tr>        <th class=\"blank level0\" ></th>        <th class=\"col_heading level0 col0\" >size_bytes</th>        <th class=\"col_heading level0 col1\" >price</th>        <th class=\"col_heading level0 col2\" >rating_count_tot</th>        <th class=\"col_heading level0 col3\" >rating_count_ver</th>        <th class=\"col_heading level0 col4\" >sup_devices.num</th>        <th class=\"col_heading level0 col5\" >ipadSc_urls.num</th>        <th class=\"col_heading level0 col6\" >lang.num</th>        <th class=\"col_heading level0 col7\" >user_rating</th>    </tr></thead><tbody>\n",
       "                <tr>\n",
       "                        <th id=\"T_63936ecc_c10a_11ea_9f20_8c859032ae4elevel0_row0\" class=\"row_heading level0 row0\" >size_bytes</th>\n",
       "                        <td id=\"T_63936ecc_c10a_11ea_9f20_8c859032ae4erow0_col0\" class=\"data row0 col0\" >1</td>\n",
       "                        <td id=\"T_63936ecc_c10a_11ea_9f20_8c859032ae4erow0_col1\" class=\"data row0 col1\" >0.18</td>\n",
       "                        <td id=\"T_63936ecc_c10a_11ea_9f20_8c859032ae4erow0_col2\" class=\"data row0 col2\" >0.0045</td>\n",
       "                        <td id=\"T_63936ecc_c10a_11ea_9f20_8c859032ae4erow0_col3\" class=\"data row0 col3\" >0.0063</td>\n",
       "                        <td id=\"T_63936ecc_c10a_11ea_9f20_8c859032ae4erow0_col4\" class=\"data row0 col4\" >-0.12</td>\n",
       "                        <td id=\"T_63936ecc_c10a_11ea_9f20_8c859032ae4erow0_col5\" class=\"data row0 col5\" >0.15</td>\n",
       "                        <td id=\"T_63936ecc_c10a_11ea_9f20_8c859032ae4erow0_col6\" class=\"data row0 col6\" >0.0046</td>\n",
       "                        <td id=\"T_63936ecc_c10a_11ea_9f20_8c859032ae4erow0_col7\" class=\"data row0 col7\" >0.066</td>\n",
       "            </tr>\n",
       "            <tr>\n",
       "                        <th id=\"T_63936ecc_c10a_11ea_9f20_8c859032ae4elevel0_row1\" class=\"row_heading level0 row1\" >price</th>\n",
       "                        <td id=\"T_63936ecc_c10a_11ea_9f20_8c859032ae4erow1_col0\" class=\"data row1 col0\" >0.18</td>\n",
       "                        <td id=\"T_63936ecc_c10a_11ea_9f20_8c859032ae4erow1_col1\" class=\"data row1 col1\" >1</td>\n",
       "                        <td id=\"T_63936ecc_c10a_11ea_9f20_8c859032ae4erow1_col2\" class=\"data row1 col2\" >-0.039</td>\n",
       "                        <td id=\"T_63936ecc_c10a_11ea_9f20_8c859032ae4erow1_col3\" class=\"data row1 col3\" >-0.018</td>\n",
       "                        <td id=\"T_63936ecc_c10a_11ea_9f20_8c859032ae4erow1_col4\" class=\"data row1 col4\" >-0.12</td>\n",
       "                        <td id=\"T_63936ecc_c10a_11ea_9f20_8c859032ae4erow1_col5\" class=\"data row1 col5\" >0.066</td>\n",
       "                        <td id=\"T_63936ecc_c10a_11ea_9f20_8c859032ae4erow1_col6\" class=\"data row1 col6\" >-0.0067</td>\n",
       "                        <td id=\"T_63936ecc_c10a_11ea_9f20_8c859032ae4erow1_col7\" class=\"data row1 col7\" >0.047</td>\n",
       "            </tr>\n",
       "            <tr>\n",
       "                        <th id=\"T_63936ecc_c10a_11ea_9f20_8c859032ae4elevel0_row2\" class=\"row_heading level0 row2\" >rating_count_tot</th>\n",
       "                        <td id=\"T_63936ecc_c10a_11ea_9f20_8c859032ae4erow2_col0\" class=\"data row2 col0\" >0.0045</td>\n",
       "                        <td id=\"T_63936ecc_c10a_11ea_9f20_8c859032ae4erow2_col1\" class=\"data row2 col1\" >-0.039</td>\n",
       "                        <td id=\"T_63936ecc_c10a_11ea_9f20_8c859032ae4erow2_col2\" class=\"data row2 col2\" >1</td>\n",
       "                        <td id=\"T_63936ecc_c10a_11ea_9f20_8c859032ae4erow2_col3\" class=\"data row2 col3\" >0.16</td>\n",
       "                        <td id=\"T_63936ecc_c10a_11ea_9f20_8c859032ae4erow2_col4\" class=\"data row2 col4\" >0.0088</td>\n",
       "                        <td id=\"T_63936ecc_c10a_11ea_9f20_8c859032ae4erow2_col5\" class=\"data row2 col5\" >0.016</td>\n",
       "                        <td id=\"T_63936ecc_c10a_11ea_9f20_8c859032ae4erow2_col6\" class=\"data row2 col6\" >0.14</td>\n",
       "                        <td id=\"T_63936ecc_c10a_11ea_9f20_8c859032ae4erow2_col7\" class=\"data row2 col7\" >0.083</td>\n",
       "            </tr>\n",
       "            <tr>\n",
       "                        <th id=\"T_63936ecc_c10a_11ea_9f20_8c859032ae4elevel0_row3\" class=\"row_heading level0 row3\" >rating_count_ver</th>\n",
       "                        <td id=\"T_63936ecc_c10a_11ea_9f20_8c859032ae4erow3_col0\" class=\"data row3 col0\" >0.0063</td>\n",
       "                        <td id=\"T_63936ecc_c10a_11ea_9f20_8c859032ae4erow3_col1\" class=\"data row3 col1\" >-0.018</td>\n",
       "                        <td id=\"T_63936ecc_c10a_11ea_9f20_8c859032ae4erow3_col2\" class=\"data row3 col2\" >0.16</td>\n",
       "                        <td id=\"T_63936ecc_c10a_11ea_9f20_8c859032ae4erow3_col3\" class=\"data row3 col3\" >1</td>\n",
       "                        <td id=\"T_63936ecc_c10a_11ea_9f20_8c859032ae4erow3_col4\" class=\"data row3 col4\" >0.038</td>\n",
       "                        <td id=\"T_63936ecc_c10a_11ea_9f20_8c859032ae4erow3_col5\" class=\"data row3 col5\" >0.024</td>\n",
       "                        <td id=\"T_63936ecc_c10a_11ea_9f20_8c859032ae4erow3_col6\" class=\"data row3 col6\" >0.013</td>\n",
       "                        <td id=\"T_63936ecc_c10a_11ea_9f20_8c859032ae4erow3_col7\" class=\"data row3 col7\" >0.069</td>\n",
       "            </tr>\n",
       "            <tr>\n",
       "                        <th id=\"T_63936ecc_c10a_11ea_9f20_8c859032ae4elevel0_row4\" class=\"row_heading level0 row4\" >sup_devices.num</th>\n",
       "                        <td id=\"T_63936ecc_c10a_11ea_9f20_8c859032ae4erow4_col0\" class=\"data row4 col0\" >-0.12</td>\n",
       "                        <td id=\"T_63936ecc_c10a_11ea_9f20_8c859032ae4erow4_col1\" class=\"data row4 col1\" >-0.12</td>\n",
       "                        <td id=\"T_63936ecc_c10a_11ea_9f20_8c859032ae4erow4_col2\" class=\"data row4 col2\" >0.0088</td>\n",
       "                        <td id=\"T_63936ecc_c10a_11ea_9f20_8c859032ae4erow4_col3\" class=\"data row4 col3\" >0.038</td>\n",
       "                        <td id=\"T_63936ecc_c10a_11ea_9f20_8c859032ae4erow4_col4\" class=\"data row4 col4\" >1</td>\n",
       "                        <td id=\"T_63936ecc_c10a_11ea_9f20_8c859032ae4erow4_col5\" class=\"data row4 col5\" >-0.038</td>\n",
       "                        <td id=\"T_63936ecc_c10a_11ea_9f20_8c859032ae4erow4_col6\" class=\"data row4 col6\" >-0.042</td>\n",
       "                        <td id=\"T_63936ecc_c10a_11ea_9f20_8c859032ae4erow4_col7\" class=\"data row4 col7\" >-0.042</td>\n",
       "            </tr>\n",
       "            <tr>\n",
       "                        <th id=\"T_63936ecc_c10a_11ea_9f20_8c859032ae4elevel0_row5\" class=\"row_heading level0 row5\" >ipadSc_urls.num</th>\n",
       "                        <td id=\"T_63936ecc_c10a_11ea_9f20_8c859032ae4erow5_col0\" class=\"data row5 col0\" >0.15</td>\n",
       "                        <td id=\"T_63936ecc_c10a_11ea_9f20_8c859032ae4erow5_col1\" class=\"data row5 col1\" >0.066</td>\n",
       "                        <td id=\"T_63936ecc_c10a_11ea_9f20_8c859032ae4erow5_col2\" class=\"data row5 col2\" >0.016</td>\n",
       "                        <td id=\"T_63936ecc_c10a_11ea_9f20_8c859032ae4erow5_col3\" class=\"data row5 col3\" >0.024</td>\n",
       "                        <td id=\"T_63936ecc_c10a_11ea_9f20_8c859032ae4erow5_col4\" class=\"data row5 col4\" >-0.038</td>\n",
       "                        <td id=\"T_63936ecc_c10a_11ea_9f20_8c859032ae4erow5_col5\" class=\"data row5 col5\" >1</td>\n",
       "                        <td id=\"T_63936ecc_c10a_11ea_9f20_8c859032ae4erow5_col6\" class=\"data row5 col6\" >0.088</td>\n",
       "                        <td id=\"T_63936ecc_c10a_11ea_9f20_8c859032ae4erow5_col7\" class=\"data row5 col7\" >0.27</td>\n",
       "            </tr>\n",
       "            <tr>\n",
       "                        <th id=\"T_63936ecc_c10a_11ea_9f20_8c859032ae4elevel0_row6\" class=\"row_heading level0 row6\" >lang.num</th>\n",
       "                        <td id=\"T_63936ecc_c10a_11ea_9f20_8c859032ae4erow6_col0\" class=\"data row6 col0\" >0.0046</td>\n",
       "                        <td id=\"T_63936ecc_c10a_11ea_9f20_8c859032ae4erow6_col1\" class=\"data row6 col1\" >-0.0067</td>\n",
       "                        <td id=\"T_63936ecc_c10a_11ea_9f20_8c859032ae4erow6_col2\" class=\"data row6 col2\" >0.14</td>\n",
       "                        <td id=\"T_63936ecc_c10a_11ea_9f20_8c859032ae4erow6_col3\" class=\"data row6 col3\" >0.013</td>\n",
       "                        <td id=\"T_63936ecc_c10a_11ea_9f20_8c859032ae4erow6_col4\" class=\"data row6 col4\" >-0.042</td>\n",
       "                        <td id=\"T_63936ecc_c10a_11ea_9f20_8c859032ae4erow6_col5\" class=\"data row6 col5\" >0.088</td>\n",
       "                        <td id=\"T_63936ecc_c10a_11ea_9f20_8c859032ae4erow6_col6\" class=\"data row6 col6\" >1</td>\n",
       "                        <td id=\"T_63936ecc_c10a_11ea_9f20_8c859032ae4erow6_col7\" class=\"data row6 col7\" >0.17</td>\n",
       "            </tr>\n",
       "            <tr>\n",
       "                        <th id=\"T_63936ecc_c10a_11ea_9f20_8c859032ae4elevel0_row7\" class=\"row_heading level0 row7\" >user_rating</th>\n",
       "                        <td id=\"T_63936ecc_c10a_11ea_9f20_8c859032ae4erow7_col0\" class=\"data row7 col0\" >0.066</td>\n",
       "                        <td id=\"T_63936ecc_c10a_11ea_9f20_8c859032ae4erow7_col1\" class=\"data row7 col1\" >0.047</td>\n",
       "                        <td id=\"T_63936ecc_c10a_11ea_9f20_8c859032ae4erow7_col2\" class=\"data row7 col2\" >0.083</td>\n",
       "                        <td id=\"T_63936ecc_c10a_11ea_9f20_8c859032ae4erow7_col3\" class=\"data row7 col3\" >0.069</td>\n",
       "                        <td id=\"T_63936ecc_c10a_11ea_9f20_8c859032ae4erow7_col4\" class=\"data row7 col4\" >-0.042</td>\n",
       "                        <td id=\"T_63936ecc_c10a_11ea_9f20_8c859032ae4erow7_col5\" class=\"data row7 col5\" >0.27</td>\n",
       "                        <td id=\"T_63936ecc_c10a_11ea_9f20_8c859032ae4erow7_col6\" class=\"data row7 col6\" >0.17</td>\n",
       "                        <td id=\"T_63936ecc_c10a_11ea_9f20_8c859032ae4erow7_col7\" class=\"data row7 col7\" >1</td>\n",
       "            </tr>\n",
       "    </tbody></table>"
      ],
      "text/plain": [
       "<pandas.io.formats.style.Styler at 0x1189997b8>"
      ]
     },
     "execution_count": 68,
     "metadata": {},
     "output_type": "execute_result"
    }
   ],
   "source": [
    "data.corr().style.background_gradient(cmap = 'coolwarm').set_precision(2)"
   ]
  },
  {
   "cell_type": "code",
   "execution_count": null,
   "metadata": {
    "collapsed": true
   },
   "outputs": [],
   "source": []
  }
 ],
 "metadata": {
  "colab": {
   "collapsed_sections": [],
   "name": "[seminar]loss_functions.ipynb",
   "provenance": [],
   "version": "0.3.2"
  },
  "kernelspec": {
   "display_name": "Python 3",
   "language": "python",
   "name": "python3"
  },
  "language_info": {
   "codemirror_mode": {
    "name": "ipython",
    "version": 3
   },
   "file_extension": ".py",
   "mimetype": "text/x-python",
   "name": "python",
   "nbconvert_exporter": "python",
   "pygments_lexer": "ipython3",
   "version": "3.6.3"
  },
  "toc": {
   "base_numbering": 1,
   "nav_menu": {},
   "number_sections": true,
   "sideBar": true,
   "skip_h1_title": false,
   "title_cell": "Table of Contents",
   "title_sidebar": "Contents",
   "toc_cell": false,
   "toc_position": {},
   "toc_section_display": true,
   "toc_window_display": false
  },
  "varInspector": {
   "cols": {
    "lenName": 16,
    "lenType": 16,
    "lenVar": 40
   },
   "kernels_config": {
    "python": {
     "delete_cmd_postfix": "",
     "delete_cmd_prefix": "del ",
     "library": "var_list.py",
     "varRefreshCmd": "print(var_dic_list())"
    },
    "r": {
     "delete_cmd_postfix": ") ",
     "delete_cmd_prefix": "rm(",
     "library": "var_list.r",
     "varRefreshCmd": "cat(var_dic_list()) "
    }
   },
   "types_to_exclude": [
    "module",
    "function",
    "builtin_function_or_method",
    "instance",
    "_Feature"
   ],
   "window_display": false
  }
 },
 "nbformat": 4,
 "nbformat_minor": 1
}
