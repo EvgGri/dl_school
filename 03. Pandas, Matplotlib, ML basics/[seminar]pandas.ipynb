{
 "cells": [
  {
   "cell_type": "markdown",
   "metadata": {},
   "source": [
    "<p style=\"align: center;\"><img src=\"https://static.tildacdn.com/tild6636-3531-4239-b465-376364646465/Deep_Learning_School.png\", width=300, height=300></p>\n",
    "\n",
    "<h3 style=\"text-align: center;\"><b>Физтех-Школа Прикладной математики и информатики (ФПМИ) МФТИ</b></h3>"
   ]
  },
  {
   "cell_type": "markdown",
   "metadata": {},
   "source": [
    "<h2 style=\"text-align: center;\"><b>Библиотека <a href=\"http://pandas.pydata.org/\">pandas</a></b></h2>"
   ]
  },
  {
   "cell_type": "markdown",
   "metadata": {},
   "source": [
    "Библиотека `pandas` активно используется в современном data science для работы с данными, которые могут быть представлены в виде таблиц (а это очень, очень большая часть данных)"
   ]
  },
  {
   "cell_type": "markdown",
   "metadata": {},
   "source": [
    "`pandas` есть в пакете Anaconda, но если вдруг у Вас её по каким-то причинам нет, то можно установить, раскомментировав следующую команду:"
   ]
  },
  {
   "cell_type": "code",
   "execution_count": 1,
   "metadata": {
    "collapsed": true
   },
   "outputs": [],
   "source": [
    "#!pip install pandas"
   ]
  },
  {
   "cell_type": "code",
   "execution_count": 2,
   "metadata": {
    "collapsed": true
   },
   "outputs": [],
   "source": [
    "import pandas as pd\n",
    "import numpy as np"
   ]
  },
  {
   "cell_type": "code",
   "execution_count": 3,
   "metadata": {},
   "outputs": [
    {
     "name": "stdout",
     "output_type": "stream",
     "text": [
      "[-10  -5 -10   2]\n"
     ]
    }
   ],
   "source": [
    "np_array = np.random.randint(low=-15, high=20, size=4)\n",
    "print(np_array)"
   ]
  },
  {
   "cell_type": "code",
   "execution_count": 4,
   "metadata": {},
   "outputs": [
    {
     "data": {
      "text/plain": [
       "0   -10\n",
       "1    -5\n",
       "2   -10\n",
       "3     2\n",
       "dtype: int64"
      ]
     },
     "execution_count": 4,
     "metadata": {},
     "output_type": "execute_result"
    }
   ],
   "source": [
    "pd_series_1 = pd.Series(np_array)\n",
    "pd_series_1"
   ]
  },
  {
   "cell_type": "code",
   "execution_count": 7,
   "metadata": {},
   "outputs": [
    {
     "name": "stdout",
     "output_type": "stream",
     "text": [
      "1-st day   -10\n",
      "2-nd day    -5\n",
      "3-rd day   -10\n",
      "4-th day     2\n",
      "dtype: int64\n"
     ]
    }
   ],
   "source": [
    "pd_series_2 = pd.Series(np_array, index = ['1-st day', '2-nd day', '3-rd day', '4-th day'])\n",
    "print(pd_series_2)"
   ]
  },
  {
   "cell_type": "code",
   "execution_count": 8,
   "metadata": {},
   "outputs": [
    {
     "data": {
      "text/plain": [
       "2"
      ]
     },
     "execution_count": 8,
     "metadata": {},
     "output_type": "execute_result"
    }
   ],
   "source": [
    "# Таким образом можно обращаться по индексу\n",
    "pd_series_2['4-th day']"
   ]
  },
  {
   "cell_type": "code",
   "execution_count": 10,
   "metadata": {},
   "outputs": [
    {
     "name": "stdout",
     "output_type": "stream",
     "text": [
      "day1   -10\n",
      "day2    -5\n",
      "day3   -10\n",
      "day4     2\n",
      "Name: Temperature, dtype: int64\n"
     ]
    }
   ],
   "source": [
    "pd_series_3 = pd.Series(np_array, index=['day1','day2','day3','day4'], name = 'Temperature')\n",
    "print(pd_series_3)"
   ]
  },
  {
   "cell_type": "code",
   "execution_count": 15,
   "metadata": {},
   "outputs": [
    {
     "name": "stdout",
     "output_type": "stream",
     "text": [
      "-10\n",
      "**********\n",
      "day2    -5\n",
      "day3   -10\n",
      "Name: Temperature, dtype: int64\n",
      "**********\n",
      "day4     2\n",
      "day3   -10\n",
      "day2    -5\n",
      "day1   -10\n",
      "Name: Temperature, dtype: int64\n"
     ]
    }
   ],
   "source": [
    "# с индексами можно работать, как с обычными листами, т.е. обращаться по значению, брать слайс, или делать обратный слайс\n",
    "print(pd_series_3[0])\n",
    "print('*'*10)\n",
    "print(pd_series_3[1:3])\n",
    "print('*'*10)\n",
    "print(pd_series_3[::-1])"
   ]
  },
  {
   "cell_type": "code",
   "execution_count": 16,
   "metadata": {},
   "outputs": [
    {
     "data": {
      "text/plain": [
       "day1   -10\n",
       "day2    -5\n",
       "day3   -10\n",
       "day4     2\n",
       "Name: Temperature, dtype: int64"
      ]
     },
     "execution_count": 16,
     "metadata": {},
     "output_type": "execute_result"
    }
   ],
   "source": [
    "# сортировка по индексу\n",
    "pd_series_3.sort_index()"
   ]
  },
  {
   "cell_type": "code",
   "execution_count": 17,
   "metadata": {},
   "outputs": [
    {
     "data": {
      "text/plain": [
       "day1   -10\n",
       "day3   -10\n",
       "day2    -5\n",
       "day4     2\n",
       "Name: Temperature, dtype: int64"
      ]
     },
     "execution_count": 17,
     "metadata": {},
     "output_type": "execute_result"
    }
   ],
   "source": [
    "# сортировка по значению\n",
    "pd_series_3.sort_values()"
   ]
  },
  {
   "cell_type": "code",
   "execution_count": 20,
   "metadata": {},
   "outputs": [
    {
     "data": {
      "text/plain": [
       "5.678908345800274"
      ]
     },
     "execution_count": 20,
     "metadata": {},
     "output_type": "execute_result"
    }
   ],
   "source": [
    "# series очень похож на стандартный np массив, можно прибавлять что-то, можно среднее брать, стандартное отклонение и прочее\n",
    "# можно применять функции из numpy\n",
    "pd_series_3.mean()\n",
    "pd_series_3 + 10\n",
    "pd_series_3.std()"
   ]
  },
  {
   "cell_type": "code",
   "execution_count": 25,
   "metadata": {},
   "outputs": [
    {
     "name": "stdout",
     "output_type": "stream",
     "text": [
      "1   -1\n",
      "2    2\n",
      "3   -8\n",
      "4    0\n",
      "5   -4\n",
      "dtype: int64 \n",
      " *****\n",
      "1    3\n",
      "2   -1\n",
      "3    4\n",
      "4    0\n",
      "5    3\n",
      "dtype: int64 \n",
      " *****\n",
      "1    2\n",
      "2    1\n",
      "3   -4\n",
      "4    0\n",
      "5   -1\n",
      "dtype: int64 \n",
      " *****\n"
     ]
    }
   ],
   "source": [
    "# не важно в каком порядке лежат данные в series // dataframe - складывается все по индексу\n",
    "pd_series_1 = pd.Series(np.random.randint(low=-10, high=5, size=5), index=['1','2','3','4','5'])\n",
    "pd_series_2 = pd.Series(np.random.randint(low=-5, high=10, size=5), index=['1','2','3','4','5'])\n",
    "pd_series_3 = pd_series_2 + pd_series_1\n",
    "print(pd_series_1, '\\n', '*'*5)\n",
    "print(pd_series_2, '\\n', '*'*5)\n",
    "print(pd_series_3, '\\n', '*'*5)"
   ]
  },
  {
   "cell_type": "code",
   "execution_count": 29,
   "metadata": {},
   "outputs": [
    {
     "name": "stdout",
     "output_type": "stream",
     "text": [
      "0    8\n",
      "1    8\n",
      "2    4\n",
      "3    8\n",
      "4    2\n",
      "dtype: int64 \n",
      "\n",
      "0    1\n",
      "1    2\n",
      "2    1\n",
      "3    3\n",
      "dtype: int64 \n",
      "\n",
      "0     9.0\n",
      "1    10.0\n",
      "2     5.0\n",
      "3    11.0\n",
      "4     NaN\n",
      "dtype: float64 \n",
      "\n"
     ]
    }
   ],
   "source": [
    "# еще один способ задавать series\n",
    "pd_series_1 = pd.Series(np.random.randint(1,10,5))\n",
    "pd_series_2 = pd.Series(np.random.randint(1,5,4))\n",
    "print(pd_series_1,'\\n')\n",
    "print(pd_series_2,'\\n')\n",
    "pd_series_3 = pd_series_2 + pd_series_1\n",
    "pd_series_3.shape\n",
    "print(pd_series_3,'\\n')"
   ]
  },
  {
   "cell_type": "code",
   "execution_count": 31,
   "metadata": {},
   "outputs": [
    {
     "name": "stdout",
     "output_type": "stream",
     "text": [
      "DatetimeIndex(['2020-06-01', '2020-06-02', '2020-06-03', '2020-06-04',\n",
      "               '2020-06-05', '2020-06-06', '2020-06-07', '2020-06-08',\n",
      "               '2020-06-09', '2020-06-10'],\n",
      "              dtype='datetime64[ns]', freq='D')\n"
     ]
    }
   ],
   "source": [
    "date_range = pd.date_range('20200601', periods=10)\n",
    "print(date_range)"
   ]
  },
  {
   "cell_type": "code",
   "execution_count": 33,
   "metadata": {},
   "outputs": [
    {
     "name": "stdout",
     "output_type": "stream",
     "text": [
      "2020-06-01    9\n",
      "2020-06-02    4\n",
      "2020-06-03    8\n",
      "2020-06-04    1\n",
      "2020-06-05    1\n",
      "2020-06-06    5\n",
      "2020-06-07    8\n",
      "2020-06-08    1\n",
      "2020-06-09    3\n",
      "2020-06-10    9\n",
      "Freq: D, dtype: int64\n"
     ]
    }
   ],
   "source": [
    "pd_series_4 = pd.Series(np.random.randint(1,10,10), index = date_range)\n",
    "print(pd_series_4)"
   ]
  },
  {
   "cell_type": "code",
   "execution_count": 34,
   "metadata": {},
   "outputs": [
    {
     "data": {
      "text/plain": [
       "2020-06-01     True\n",
       "2020-06-02     True\n",
       "2020-06-03     True\n",
       "2020-06-04    False\n",
       "2020-06-05    False\n",
       "2020-06-06     True\n",
       "2020-06-07     True\n",
       "2020-06-08    False\n",
       "2020-06-09    False\n",
       "2020-06-10     True\n",
       "Freq: D, dtype: bool"
      ]
     },
     "execution_count": 34,
     "metadata": {},
     "output_type": "execute_result"
    }
   ],
   "source": [
    "# как и в numpy можно получать булевые массивы\n",
    "pd_series_4 > 3"
   ]
  },
  {
   "cell_type": "code",
   "execution_count": 36,
   "metadata": {},
   "outputs": [
    {
     "data": {
      "text/plain": [
       "2020-06-06    5\n",
       "Freq: D, dtype: int64"
      ]
     },
     "execution_count": 36,
     "metadata": {},
     "output_type": "execute_result"
    }
   ],
   "source": [
    "# объединение диапазонов значений\n",
    "pd_series_4[(pd_series_4>4) & (pd_series_4<8)]"
   ]
  },
  {
   "cell_type": "code",
   "execution_count": 51,
   "metadata": {},
   "outputs": [
    {
     "name": "stdout",
     "output_type": "stream",
     "text": [
      "   One  Two\n",
      "a  3.0    5\n",
      "b  9.0   13\n",
      "c  3.0    7\n",
      "d  NaN    6\n"
     ]
    }
   ],
   "source": [
    "# DataFrame\n",
    "d =  {\n",
    "        'One': pd.Series(np.random.randint(1,10,3), index = (['a','b','c'])),\n",
    "        'Two': pd.Series(np.random.randint(1,20,4), index= (['a','b','c','d']))\n",
    "     }\n",
    "type(d)\n",
    "df = pd.DataFrame(d)\n",
    "print(df)"
   ]
  },
  {
   "cell_type": "code",
   "execution_count": 52,
   "metadata": {},
   "outputs": [
    {
     "data": {
      "text/plain": [
       "Index(['a', 'b', 'c', 'd'], dtype='object')"
      ]
     },
     "execution_count": 52,
     "metadata": {},
     "output_type": "execute_result"
    }
   ],
   "source": [
    "df.index"
   ]
  },
  {
   "cell_type": "code",
   "execution_count": 53,
   "metadata": {},
   "outputs": [
    {
     "data": {
      "text/plain": [
       "3.0"
      ]
     },
     "execution_count": 53,
     "metadata": {},
     "output_type": "execute_result"
    }
   ],
   "source": [
    "# Обращение к одной из колонок Dataframe дает Series, после этого можно по индексу Series  обратиться к значению\n",
    "print(type(df['One']))\n",
    "df['One']['c']"
   ]
  },
  {
   "cell_type": "code",
   "execution_count": 55,
   "metadata": {},
   "outputs": [
    {
     "data": {
      "text/plain": [
       "Index(['One', 'Two'], dtype='object')"
      ]
     },
     "execution_count": 55,
     "metadata": {},
     "output_type": "execute_result"
    }
   ],
   "source": [
    "df.columns"
   ]
  },
  {
   "cell_type": "code",
   "execution_count": 61,
   "metadata": {},
   "outputs": [
    {
     "data": {
      "text/plain": [
       "pandas.core.series.Series"
      ]
     },
     "execution_count": 61,
     "metadata": {},
     "output_type": "execute_result"
    }
   ],
   "source": [
    "type(df['One'])"
   ]
  },
  {
   "cell_type": "code",
   "execution_count": 62,
   "metadata": {},
   "outputs": [
    {
     "data": {
      "text/plain": [
       "a    3.0\n",
       "b    9.0\n",
       "c    3.0\n",
       "d    NaN\n",
       "Name: One, dtype: float64"
      ]
     },
     "execution_count": 62,
     "metadata": {},
     "output_type": "execute_result"
    }
   ],
   "source": [
    "# к колонкам можно обращаться через точку, если нет пробелов в названии колонки\n",
    "df.One"
   ]
  },
  {
   "cell_type": "code",
   "execution_count": 71,
   "metadata": {},
   "outputs": [
    {
     "data": {
      "text/html": [
       "<div>\n",
       "<style scoped>\n",
       "    .dataframe tbody tr th:only-of-type {\n",
       "        vertical-align: middle;\n",
       "    }\n",
       "\n",
       "    .dataframe tbody tr th {\n",
       "        vertical-align: top;\n",
       "    }\n",
       "\n",
       "    .dataframe thead th {\n",
       "        text-align: right;\n",
       "    }\n",
       "</style>\n",
       "<table border=\"1\" class=\"dataframe\">\n",
       "  <thead>\n",
       "    <tr style=\"text-align: right;\">\n",
       "      <th></th>\n",
       "      <th>One</th>\n",
       "      <th>Two</th>\n",
       "    </tr>\n",
       "  </thead>\n",
       "  <tbody>\n",
       "    <tr>\n",
       "      <th>b</th>\n",
       "      <td>9.0</td>\n",
       "      <td>13</td>\n",
       "    </tr>\n",
       "    <tr>\n",
       "      <th>c</th>\n",
       "      <td>3.0</td>\n",
       "      <td>7</td>\n",
       "    </tr>\n",
       "  </tbody>\n",
       "</table>\n",
       "</div>"
      ],
      "text/plain": [
       "   One  Two\n",
       "b  9.0   13\n",
       "c  3.0    7"
      ]
     },
     "execution_count": 71,
     "metadata": {},
     "output_type": "execute_result"
    }
   ],
   "source": [
    "# можно делать слайс по строчкам, питон такое обращение поймет и распарсит\n",
    "df[1:3]"
   ]
  },
  {
   "cell_type": "code",
   "execution_count": 73,
   "metadata": {},
   "outputs": [
    {
     "name": "stdout",
     "output_type": "stream",
     "text": [
      "a     8.0\n",
      "b    22.0\n",
      "c    10.0\n",
      "d     NaN\n",
      "Name: Three, dtype: float64\n"
     ]
    }
   ],
   "source": [
    "df['Three'] = df['One']+df['Two']\n",
    "print(df['Three'])"
   ]
  },
  {
   "cell_type": "code",
   "execution_count": 82,
   "metadata": {},
   "outputs": [
    {
     "name": "stdout",
     "output_type": "stream",
     "text": [
      "   One   Two  Three\n",
      "a  3.0   5.0    8.0\n",
      "b  9.0  13.0   22.0\n",
      "c  3.0   7.0   10.0\n",
      "d  NaN   6.0    NaN\n",
      "e  1.0   NaN    NaN\n",
      "f  2.0   NaN    NaN\n"
     ]
    }
   ],
   "source": [
    "df_1 = pd.DataFrame(df, index = ['a','b','c','d'])\n",
    "df_2 = pd.DataFrame({'One': [1,2]}, index = ['e','f'])\n",
    "df_3 = pd.concat([df_1, df_2], sort=False)\n",
    "print(df_3)"
   ]
  },
  {
   "cell_type": "code",
   "execution_count": 93,
   "metadata": {},
   "outputs": [
    {
     "name": "stdout",
     "output_type": "stream",
     "text": [
      "   col_1\n",
      "0      4\n",
      "1     -8\n",
      "2     -5\n",
      "3     -3\n",
      "4     -2\n"
     ]
    }
   ],
   "source": [
    "# shift + tab x2 показывает какие аргументы принимает функция\n",
    "pd_series = pd.Series(np.random.randint(low = -10, high = 5, size = 5, dtype = 'int'), index=range(0,5))\n",
    "pd_dataframe = pd.DataFrame(pd_series)\n",
    "pd_dataframe.columns = ['col_1']\n",
    "print(pd_dataframe)"
   ]
  },
  {
   "cell_type": "markdown",
   "metadata": {},
   "source": [
    "Нужны данные. Про AppStore слышали? :)"
   ]
  },
  {
   "cell_type": "markdown",
   "metadata": {},
   "source": [
    "### Скачать данные: https://www.kaggle.com/ramamet4/app-store-apple-data-set-10k-apps"
   ]
  },
  {
   "cell_type": "markdown",
   "metadata": {},
   "source": [
    "Нас интересует файл `AppStore.csv`."
   ]
  },
  {
   "cell_type": "markdown",
   "metadata": {},
   "source": [
    "Кстати, `.csv` (Comma Separated Values) - наверное, самый частый формат данных в современном data science. По сути, это то же самое, что и `.xls` (и `.xlsx`), то есть таблица. "
   ]
  },
  {
   "cell_type": "markdown",
   "metadata": {},
   "source": [
    "Итак, *чтение файла с данными*:"
   ]
  },
  {
   "cell_type": "code",
   "execution_count": 137,
   "metadata": {
    "ExecuteTime": {
     "end_time": "2020-06-22T13:32:44.713034Z",
     "start_time": "2020-06-22T13:32:44.689696Z"
    }
   },
   "outputs": [],
   "source": [
    "import pandas as pd\n",
    "import numpy as np\n",
    "data = pd.read_csv('./app-store-apple-data-set-10k-apps/AppleStore.csv')"
   ]
  },
  {
   "cell_type": "markdown",
   "metadata": {},
   "source": [
    "Посмотрим, что же такое переменная `data`:"
   ]
  },
  {
   "cell_type": "code",
   "execution_count": 53,
   "metadata": {
    "ExecuteTime": {
     "end_time": "2020-06-22T12:30:08.833754Z",
     "start_time": "2020-06-22T12:30:08.801912Z"
    }
   },
   "outputs": [
    {
     "data": {
      "text/html": [
       "<div>\n",
       "<style scoped>\n",
       "    .dataframe tbody tr th:only-of-type {\n",
       "        vertical-align: middle;\n",
       "    }\n",
       "\n",
       "    .dataframe tbody tr th {\n",
       "        vertical-align: top;\n",
       "    }\n",
       "\n",
       "    .dataframe thead th {\n",
       "        text-align: right;\n",
       "    }\n",
       "</style>\n",
       "<table border=\"1\" class=\"dataframe\">\n",
       "  <thead>\n",
       "    <tr style=\"text-align: right;\">\n",
       "      <th></th>\n",
       "      <th>Unnamed: 0</th>\n",
       "      <th>id</th>\n",
       "      <th>track_name</th>\n",
       "      <th>size_bytes</th>\n",
       "      <th>currency</th>\n",
       "      <th>price</th>\n",
       "      <th>rating_count_tot</th>\n",
       "      <th>rating_count_ver</th>\n",
       "      <th>user_rating</th>\n",
       "      <th>user_rating_ver</th>\n",
       "      <th>ver</th>\n",
       "      <th>cont_rating</th>\n",
       "      <th>prime_genre</th>\n",
       "      <th>sup_devices.num</th>\n",
       "      <th>ipadSc_urls.num</th>\n",
       "      <th>lang.num</th>\n",
       "      <th>vpp_lic</th>\n",
       "    </tr>\n",
       "  </thead>\n",
       "  <tbody>\n",
       "    <tr>\n",
       "      <td>1895</td>\n",
       "      <td>2204</td>\n",
       "      <td>632079234</td>\n",
       "      <td>Star Command</td>\n",
       "      <td>153100288</td>\n",
       "      <td>USD</td>\n",
       "      <td>2.99</td>\n",
       "      <td>3473</td>\n",
       "      <td>619</td>\n",
       "      <td>4.0</td>\n",
       "      <td>4.0</td>\n",
       "      <td>1.1.4</td>\n",
       "      <td>12+</td>\n",
       "      <td>Games</td>\n",
       "      <td>43</td>\n",
       "      <td>5</td>\n",
       "      <td>1</td>\n",
       "      <td>1</td>\n",
       "    </tr>\n",
       "    <tr>\n",
       "      <td>4065</td>\n",
       "      <td>5052</td>\n",
       "      <td>1020327340</td>\n",
       "      <td>DragonSoul RPG</td>\n",
       "      <td>212710400</td>\n",
       "      <td>USD</td>\n",
       "      <td>0.00</td>\n",
       "      <td>7681</td>\n",
       "      <td>15</td>\n",
       "      <td>4.5</td>\n",
       "      <td>3.0</td>\n",
       "      <td>2.13.0</td>\n",
       "      <td>9+</td>\n",
       "      <td>Games</td>\n",
       "      <td>38</td>\n",
       "      <td>5</td>\n",
       "      <td>17</td>\n",
       "      <td>1</td>\n",
       "    </tr>\n",
       "    <tr>\n",
       "      <td>3653</td>\n",
       "      <td>4453</td>\n",
       "      <td>982354972</td>\n",
       "      <td>Lifeline...</td>\n",
       "      <td>29690880</td>\n",
       "      <td>USD</td>\n",
       "      <td>1.99</td>\n",
       "      <td>21347</td>\n",
       "      <td>1187</td>\n",
       "      <td>4.5</td>\n",
       "      <td>4.5</td>\n",
       "      <td>1.10.1</td>\n",
       "      <td>9+</td>\n",
       "      <td>Games</td>\n",
       "      <td>37</td>\n",
       "      <td>5</td>\n",
       "      <td>6</td>\n",
       "      <td>1</td>\n",
       "    </tr>\n",
       "    <tr>\n",
       "      <td>4998</td>\n",
       "      <td>6546</td>\n",
       "      <td>1068360791</td>\n",
       "      <td>謎解き2016</td>\n",
       "      <td>15844352</td>\n",
       "      <td>USD</td>\n",
       "      <td>0.00</td>\n",
       "      <td>0</td>\n",
       "      <td>0</td>\n",
       "      <td>0.0</td>\n",
       "      <td>0.0</td>\n",
       "      <td>1.3</td>\n",
       "      <td>4+</td>\n",
       "      <td>Book</td>\n",
       "      <td>38</td>\n",
       "      <td>0</td>\n",
       "      <td>1</td>\n",
       "      <td>1</td>\n",
       "    </tr>\n",
       "    <tr>\n",
       "      <td>6878</td>\n",
       "      <td>10252</td>\n",
       "      <td>1154791600</td>\n",
       "      <td>アウト～まさか浮気してないよね？～【恋愛不倫探しゲーム】</td>\n",
       "      <td>40107008</td>\n",
       "      <td>USD</td>\n",
       "      <td>0.00</td>\n",
       "      <td>0</td>\n",
       "      <td>0</td>\n",
       "      <td>0.0</td>\n",
       "      <td>0.0</td>\n",
       "      <td>1.0.5</td>\n",
       "      <td>9+</td>\n",
       "      <td>Book</td>\n",
       "      <td>37</td>\n",
       "      <td>0</td>\n",
       "      <td>1</td>\n",
       "      <td>1</td>\n",
       "    </tr>\n",
       "  </tbody>\n",
       "</table>\n",
       "</div>"
      ],
      "text/plain": [
       "      Unnamed: 0          id                    track_name  size_bytes  \\\n",
       "1895        2204   632079234                  Star Command   153100288   \n",
       "4065        5052  1020327340                DragonSoul RPG   212710400   \n",
       "3653        4453   982354972                   Lifeline...    29690880   \n",
       "4998        6546  1068360791                       謎解き2016    15844352   \n",
       "6878       10252  1154791600  アウト～まさか浮気してないよね？～【恋愛不倫探しゲーム】    40107008   \n",
       "\n",
       "     currency  price  rating_count_tot  rating_count_ver  user_rating  \\\n",
       "1895      USD   2.99              3473               619          4.0   \n",
       "4065      USD   0.00              7681                15          4.5   \n",
       "3653      USD   1.99             21347              1187          4.5   \n",
       "4998      USD   0.00                 0                 0          0.0   \n",
       "6878      USD   0.00                 0                 0          0.0   \n",
       "\n",
       "      user_rating_ver     ver cont_rating prime_genre  sup_devices.num  \\\n",
       "1895              4.0   1.1.4         12+       Games               43   \n",
       "4065              3.0  2.13.0          9+       Games               38   \n",
       "3653              4.5  1.10.1          9+       Games               37   \n",
       "4998              0.0     1.3          4+        Book               38   \n",
       "6878              0.0   1.0.5          9+        Book               37   \n",
       "\n",
       "      ipadSc_urls.num  lang.num  vpp_lic  \n",
       "1895                5         1        1  \n",
       "4065                5        17        1  \n",
       "3653                5         6        1  \n",
       "4998                0         1        1  \n",
       "6878                0         1        1  "
      ]
     },
     "execution_count": 53,
     "metadata": {},
     "output_type": "execute_result"
    }
   ],
   "source": [
    "data.sample(5)"
   ]
  },
  {
   "cell_type": "code",
   "execution_count": 54,
   "metadata": {
    "ExecuteTime": {
     "end_time": "2020-06-22T12:31:03.890923Z",
     "start_time": "2020-06-22T12:31:03.885917Z"
    }
   },
   "outputs": [
    {
     "data": {
      "text/plain": [
       "pandas.core.frame.DataFrame"
      ]
     },
     "execution_count": 54,
     "metadata": {},
     "output_type": "execute_result"
    }
   ],
   "source": [
    "type(data)"
   ]
  },
  {
   "cell_type": "markdown",
   "metadata": {},
   "source": [
    "Тип == `pandas.core.frame.DataFrame`, обычно говорят просто \"датафрейм\", то есть \"кусок данных\"."
   ]
  },
  {
   "cell_type": "markdown",
   "metadata": {},
   "source": [
    "Можно вывести информацию по датафрейму:"
   ]
  },
  {
   "cell_type": "code",
   "execution_count": 136,
   "metadata": {
    "ExecuteTime": {
     "end_time": "2020-06-22T13:32:34.523175Z",
     "start_time": "2020-06-22T13:32:34.491984Z"
    }
   },
   "outputs": [
    {
     "name": "stdout",
     "output_type": "stream",
     "text": [
      "<class 'pandas.core.frame.DataFrame'>\n",
      "Int64Index: 7197 entries, 281656475 to 1188375727\n",
      "Data columns (total 16 columns):\n",
      "Unnamed: 0          7197 non-null int64\n",
      "track_name          7197 non-null object\n",
      "size_bytes          7197 non-null int64\n",
      "currency            7197 non-null object\n",
      "price               7197 non-null float64\n",
      "rating_count_tot    7197 non-null int64\n",
      "rating_count_ver    7197 non-null int64\n",
      "user_rating         7197 non-null float64\n",
      "user_rating_ver     7197 non-null float64\n",
      "ver                 7197 non-null object\n",
      "cont_rating         7197 non-null object\n",
      "prime_genre         7197 non-null object\n",
      "sup_devices.num     7197 non-null int64\n",
      "ipadSc_urls.num     7197 non-null int64\n",
      "lang.num            7197 non-null int64\n",
      "vpp_lic             7197 non-null int64\n",
      "dtypes: float64(3), int64(8), object(5)\n",
      "memory usage: 955.9+ KB\n"
     ]
    }
   ],
   "source": [
    "data = pd.read_csv('./app-store-apple-data-set-10k-apps/AppleStore.csv', index_col='id')\n",
    "data.info()"
   ]
  },
  {
   "cell_type": "markdown",
   "metadata": {},
   "source": [
    "И более статистически значимую информацию:"
   ]
  },
  {
   "cell_type": "code",
   "execution_count": 56,
   "metadata": {
    "ExecuteTime": {
     "end_time": "2020-06-22T12:31:09.155152Z",
     "start_time": "2020-06-22T12:31:09.094898Z"
    },
    "scrolled": false
   },
   "outputs": [
    {
     "name": "stdout",
     "output_type": "stream",
     "text": [
      "(7197, 16)\n"
     ]
    },
    {
     "data": {
      "text/html": [
       "<div>\n",
       "<style scoped>\n",
       "    .dataframe tbody tr th:only-of-type {\n",
       "        vertical-align: middle;\n",
       "    }\n",
       "\n",
       "    .dataframe tbody tr th {\n",
       "        vertical-align: top;\n",
       "    }\n",
       "\n",
       "    .dataframe thead th {\n",
       "        text-align: right;\n",
       "    }\n",
       "</style>\n",
       "<table border=\"1\" class=\"dataframe\">\n",
       "  <thead>\n",
       "    <tr style=\"text-align: right;\">\n",
       "      <th></th>\n",
       "      <th>Unnamed: 0</th>\n",
       "      <th>size_bytes</th>\n",
       "      <th>price</th>\n",
       "      <th>rating_count_tot</th>\n",
       "      <th>rating_count_ver</th>\n",
       "      <th>user_rating</th>\n",
       "      <th>user_rating_ver</th>\n",
       "      <th>sup_devices.num</th>\n",
       "      <th>ipadSc_urls.num</th>\n",
       "      <th>lang.num</th>\n",
       "      <th>vpp_lic</th>\n",
       "    </tr>\n",
       "  </thead>\n",
       "  <tbody>\n",
       "    <tr>\n",
       "      <td>count</td>\n",
       "      <td>7197.000000</td>\n",
       "      <td>7.197000e+03</td>\n",
       "      <td>7197.000000</td>\n",
       "      <td>7.197000e+03</td>\n",
       "      <td>7197.000000</td>\n",
       "      <td>7197.000000</td>\n",
       "      <td>7197.000000</td>\n",
       "      <td>7197.000000</td>\n",
       "      <td>7197.000000</td>\n",
       "      <td>7197.000000</td>\n",
       "      <td>7197.000000</td>\n",
       "    </tr>\n",
       "    <tr>\n",
       "      <td>mean</td>\n",
       "      <td>4759.069612</td>\n",
       "      <td>1.991345e+08</td>\n",
       "      <td>1.726218</td>\n",
       "      <td>1.289291e+04</td>\n",
       "      <td>460.373906</td>\n",
       "      <td>3.526956</td>\n",
       "      <td>3.253578</td>\n",
       "      <td>37.361817</td>\n",
       "      <td>3.707100</td>\n",
       "      <td>5.434903</td>\n",
       "      <td>0.993053</td>\n",
       "    </tr>\n",
       "    <tr>\n",
       "      <td>std</td>\n",
       "      <td>3093.625213</td>\n",
       "      <td>3.592069e+08</td>\n",
       "      <td>5.833006</td>\n",
       "      <td>7.573941e+04</td>\n",
       "      <td>3920.455183</td>\n",
       "      <td>1.517948</td>\n",
       "      <td>1.809363</td>\n",
       "      <td>3.737715</td>\n",
       "      <td>1.986005</td>\n",
       "      <td>7.919593</td>\n",
       "      <td>0.083066</td>\n",
       "    </tr>\n",
       "    <tr>\n",
       "      <td>min</td>\n",
       "      <td>1.000000</td>\n",
       "      <td>5.898240e+05</td>\n",
       "      <td>0.000000</td>\n",
       "      <td>0.000000e+00</td>\n",
       "      <td>0.000000</td>\n",
       "      <td>0.000000</td>\n",
       "      <td>0.000000</td>\n",
       "      <td>9.000000</td>\n",
       "      <td>0.000000</td>\n",
       "      <td>0.000000</td>\n",
       "      <td>0.000000</td>\n",
       "    </tr>\n",
       "    <tr>\n",
       "      <td>25%</td>\n",
       "      <td>2090.000000</td>\n",
       "      <td>4.692275e+07</td>\n",
       "      <td>0.000000</td>\n",
       "      <td>2.800000e+01</td>\n",
       "      <td>1.000000</td>\n",
       "      <td>3.500000</td>\n",
       "      <td>2.500000</td>\n",
       "      <td>37.000000</td>\n",
       "      <td>3.000000</td>\n",
       "      <td>1.000000</td>\n",
       "      <td>1.000000</td>\n",
       "    </tr>\n",
       "    <tr>\n",
       "      <td>50%</td>\n",
       "      <td>4380.000000</td>\n",
       "      <td>9.715302e+07</td>\n",
       "      <td>0.000000</td>\n",
       "      <td>3.000000e+02</td>\n",
       "      <td>23.000000</td>\n",
       "      <td>4.000000</td>\n",
       "      <td>4.000000</td>\n",
       "      <td>37.000000</td>\n",
       "      <td>5.000000</td>\n",
       "      <td>1.000000</td>\n",
       "      <td>1.000000</td>\n",
       "    </tr>\n",
       "    <tr>\n",
       "      <td>75%</td>\n",
       "      <td>7223.000000</td>\n",
       "      <td>1.819249e+08</td>\n",
       "      <td>1.990000</td>\n",
       "      <td>2.793000e+03</td>\n",
       "      <td>140.000000</td>\n",
       "      <td>4.500000</td>\n",
       "      <td>4.500000</td>\n",
       "      <td>38.000000</td>\n",
       "      <td>5.000000</td>\n",
       "      <td>8.000000</td>\n",
       "      <td>1.000000</td>\n",
       "    </tr>\n",
       "    <tr>\n",
       "      <td>max</td>\n",
       "      <td>11097.000000</td>\n",
       "      <td>4.025970e+09</td>\n",
       "      <td>299.990000</td>\n",
       "      <td>2.974676e+06</td>\n",
       "      <td>177050.000000</td>\n",
       "      <td>5.000000</td>\n",
       "      <td>5.000000</td>\n",
       "      <td>47.000000</td>\n",
       "      <td>5.000000</td>\n",
       "      <td>75.000000</td>\n",
       "      <td>1.000000</td>\n",
       "    </tr>\n",
       "  </tbody>\n",
       "</table>\n",
       "</div>"
      ],
      "text/plain": [
       "         Unnamed: 0    size_bytes        price  rating_count_tot  \\\n",
       "count   7197.000000  7.197000e+03  7197.000000      7.197000e+03   \n",
       "mean    4759.069612  1.991345e+08     1.726218      1.289291e+04   \n",
       "std     3093.625213  3.592069e+08     5.833006      7.573941e+04   \n",
       "min        1.000000  5.898240e+05     0.000000      0.000000e+00   \n",
       "25%     2090.000000  4.692275e+07     0.000000      2.800000e+01   \n",
       "50%     4380.000000  9.715302e+07     0.000000      3.000000e+02   \n",
       "75%     7223.000000  1.819249e+08     1.990000      2.793000e+03   \n",
       "max    11097.000000  4.025970e+09   299.990000      2.974676e+06   \n",
       "\n",
       "       rating_count_ver  user_rating  user_rating_ver  sup_devices.num  \\\n",
       "count       7197.000000  7197.000000      7197.000000      7197.000000   \n",
       "mean         460.373906     3.526956         3.253578        37.361817   \n",
       "std         3920.455183     1.517948         1.809363         3.737715   \n",
       "min            0.000000     0.000000         0.000000         9.000000   \n",
       "25%            1.000000     3.500000         2.500000        37.000000   \n",
       "50%           23.000000     4.000000         4.000000        37.000000   \n",
       "75%          140.000000     4.500000         4.500000        38.000000   \n",
       "max       177050.000000     5.000000         5.000000        47.000000   \n",
       "\n",
       "       ipadSc_urls.num     lang.num      vpp_lic  \n",
       "count      7197.000000  7197.000000  7197.000000  \n",
       "mean          3.707100     5.434903     0.993053  \n",
       "std           1.986005     7.919593     0.083066  \n",
       "min           0.000000     0.000000     0.000000  \n",
       "25%           3.000000     1.000000     1.000000  \n",
       "50%           5.000000     1.000000     1.000000  \n",
       "75%           5.000000     8.000000     1.000000  \n",
       "max           5.000000    75.000000     1.000000  "
      ]
     },
     "execution_count": 56,
     "metadata": {},
     "output_type": "execute_result"
    }
   ],
   "source": [
    "print(data.shape)\n",
    "data.describe()"
   ]
  },
  {
   "cell_type": "markdown",
   "metadata": {},
   "source": [
    "Итак, наши данные -- это какая-то **информация про приложения в AppStore**. Давайте посмотрим, что тут есть:"
   ]
  },
  {
   "cell_type": "code",
   "execution_count": 57,
   "metadata": {
    "ExecuteTime": {
     "end_time": "2020-06-22T12:31:13.685516Z",
     "start_time": "2020-06-22T12:31:13.679389Z"
    },
    "scrolled": false
   },
   "outputs": [
    {
     "data": {
      "text/plain": [
       "Index(['Unnamed: 0', 'track_name', 'size_bytes', 'currency', 'price',\n",
       "       'rating_count_tot', 'rating_count_ver', 'user_rating',\n",
       "       'user_rating_ver', 'ver', 'cont_rating', 'prime_genre',\n",
       "       'sup_devices.num', 'ipadSc_urls.num', 'lang.num', 'vpp_lic'],\n",
       "      dtype='object')"
      ]
     },
     "execution_count": 57,
     "metadata": {},
     "output_type": "execute_result"
    }
   ],
   "source": [
    "# все столбцы датафрейма (названия)\n",
    "data.columns"
   ]
  },
  {
   "cell_type": "code",
   "execution_count": 142,
   "metadata": {
    "ExecuteTime": {
     "end_time": "2020-06-22T13:34:13.719829Z",
     "start_time": "2020-06-22T13:34:13.703850Z"
    }
   },
   "outputs": [
    {
     "data": {
      "text/plain": [
       "492"
      ]
     },
     "execution_count": 142,
     "metadata": {},
     "output_type": "execute_result"
    }
   ],
   "source": [
    "data[data['user_rating']==data['user_rating'].max()]\n",
    "data.sort_values('user_rating', ascending=False)\n",
    "data[(data['user_rating']>4) & (data['user_rating']<5)]\n",
    "\n",
    "(data['user_rating'] == data.user_rating.max()).sum()"
   ]
  },
  {
   "cell_type": "code",
   "execution_count": 164,
   "metadata": {
    "ExecuteTime": {
     "end_time": "2020-06-22T13:40:31.814713Z",
     "start_time": "2020-06-22T13:40:31.798191Z"
    }
   },
   "outputs": [
    {
     "data": {
      "text/plain": [
       "Games                3862\n",
       "Entertainment         535\n",
       "Education             453\n",
       "Photo & Video         349\n",
       "Utilities             248\n",
       "Health & Fitness      180\n",
       "Productivity          178\n",
       "Social Networking     167\n",
       "Lifestyle             144\n",
       "Music                 138\n",
       "Shopping              122\n",
       "Sports                114\n",
       "Book                  112\n",
       "Finance               104\n",
       "Travel                 81\n",
       "News                   75\n",
       "Weather                72\n",
       "Reference              64\n",
       "Food & Drink           63\n",
       "Business               57\n",
       "Navigation             46\n",
       "Medical                23\n",
       "Catalogs               10\n",
       "Name: prime_genre, dtype: int64"
      ]
     },
     "execution_count": 164,
     "metadata": {},
     "output_type": "execute_result"
    }
   ],
   "source": [
    "import numpy as np\n",
    "len(set(data['prime_genre']))\n",
    "len(np.unique(data['prime_genre']))\n",
    "data.prime_genre.unique()\n",
    "df_counts = data['prime_genre'].value_counts()\n",
    "data['prime_genre'].value_counts()\n",
    "# data['price'].value_counts()"
   ]
  },
  {
   "cell_type": "code",
   "execution_count": 175,
   "metadata": {
    "ExecuteTime": {
     "end_time": "2020-06-22T13:45:58.763914Z",
     "start_time": "2020-06-22T13:45:58.753925Z"
    }
   },
   "outputs": [
    {
     "name": "stdout",
     "output_type": "stream",
     "text": [
      "Index(['Unnamed: 0', 'id', 'track_name', 'size_bytes', 'currency', 'price',\n",
      "       'rating_count_tot', 'rating_count_ver', 'user_rating',\n",
      "       'user_rating_ver', 'ver', 'cont_rating', 'prime_genre',\n",
      "       'sup_devices.num', 'ipadSc_urls.num', 'lang.num', 'vpp_lic'],\n",
      "      dtype='object')\n"
     ]
    },
    {
     "data": {
      "text/plain": [
       "8136529366"
      ]
     },
     "execution_count": 175,
     "metadata": {},
     "output_type": "execute_result"
    }
   ],
   "source": [
    "data['prime_genre'].value_counts().max()\n",
    "print(data.columns)  \n",
    "data[data['prime_genre']=='Finance']['size_bytes'].sum()"
   ]
  },
  {
   "cell_type": "code",
   "execution_count": 184,
   "metadata": {
    "ExecuteTime": {
     "end_time": "2020-06-22T13:49:17.548972Z",
     "start_time": "2020-06-22T13:49:17.540985Z"
    }
   },
   "outputs": [
    {
     "data": {
      "text/plain": [
       "2944"
      ]
     },
     "execution_count": 184,
     "metadata": {},
     "output_type": "execute_result"
    }
   ],
   "source": [
    "data[(data['price']==0) & (data['user_rating']>3)]['id'].count()"
   ]
  },
  {
   "cell_type": "code",
   "execution_count": 185,
   "metadata": {
    "ExecuteTime": {
     "end_time": "2020-06-22T13:51:18.345882Z",
     "start_time": "2020-06-22T13:51:18.270463Z"
    }
   },
   "outputs": [
    {
     "data": {
      "text/html": [
       "<div>\n",
       "<style scoped>\n",
       "    .dataframe tbody tr th:only-of-type {\n",
       "        vertical-align: middle;\n",
       "    }\n",
       "\n",
       "    .dataframe tbody tr th {\n",
       "        vertical-align: top;\n",
       "    }\n",
       "\n",
       "    .dataframe thead th {\n",
       "        text-align: right;\n",
       "    }\n",
       "</style>\n",
       "<table border=\"1\" class=\"dataframe\">\n",
       "  <thead>\n",
       "    <tr style=\"text-align: right;\">\n",
       "      <th></th>\n",
       "      <th>Unnamed: 0</th>\n",
       "      <th>id</th>\n",
       "      <th>track_name</th>\n",
       "      <th>size_bytes</th>\n",
       "      <th>currency</th>\n",
       "      <th>price</th>\n",
       "      <th>rating_count_tot</th>\n",
       "      <th>rating_count_ver</th>\n",
       "      <th>user_rating</th>\n",
       "      <th>user_rating_ver</th>\n",
       "      <th>ver</th>\n",
       "      <th>cont_rating</th>\n",
       "      <th>prime_genre</th>\n",
       "      <th>sup_devices.num</th>\n",
       "      <th>ipadSc_urls.num</th>\n",
       "      <th>lang.num</th>\n",
       "      <th>vpp_lic</th>\n",
       "    </tr>\n",
       "  </thead>\n",
       "  <tbody>\n",
       "    <tr>\n",
       "      <td>115</td>\n",
       "      <td>129</td>\n",
       "      <td>308368164</td>\n",
       "      <td>Proloquo2Go - Symbol-based AAC</td>\n",
       "      <td>723764224</td>\n",
       "      <td>USD</td>\n",
       "      <td>249.99</td>\n",
       "      <td>773</td>\n",
       "      <td>10</td>\n",
       "      <td>4.0</td>\n",
       "      <td>3.5</td>\n",
       "      <td>5.0.1</td>\n",
       "      <td>4+</td>\n",
       "      <td>Education</td>\n",
       "      <td>37</td>\n",
       "      <td>5</td>\n",
       "      <td>3</td>\n",
       "      <td>1</td>\n",
       "    </tr>\n",
       "    <tr>\n",
       "      <td>1479</td>\n",
       "      <td>1714</td>\n",
       "      <td>551215116</td>\n",
       "      <td>LAMP Words For Life</td>\n",
       "      <td>583263232</td>\n",
       "      <td>USD</td>\n",
       "      <td>299.99</td>\n",
       "      <td>41</td>\n",
       "      <td>0</td>\n",
       "      <td>4.0</td>\n",
       "      <td>0.0</td>\n",
       "      <td>1.5.5</td>\n",
       "      <td>4+</td>\n",
       "      <td>Education</td>\n",
       "      <td>24</td>\n",
       "      <td>5</td>\n",
       "      <td>1</td>\n",
       "      <td>1</td>\n",
       "    </tr>\n",
       "  </tbody>\n",
       "</table>\n",
       "</div>"
      ],
      "text/plain": [
       "      Unnamed: 0         id                      track_name  size_bytes  \\\n",
       "115          129  308368164  Proloquo2Go - Symbol-based AAC   723764224   \n",
       "1479        1714  551215116             LAMP Words For Life   583263232   \n",
       "\n",
       "     currency   price  rating_count_tot  rating_count_ver  user_rating  \\\n",
       "115       USD  249.99               773                10          4.0   \n",
       "1479      USD  299.99                41                 0          4.0   \n",
       "\n",
       "      user_rating_ver    ver cont_rating prime_genre  sup_devices.num  \\\n",
       "115               3.5  5.0.1          4+   Education               37   \n",
       "1479              0.0  1.5.5          4+   Education               24   \n",
       "\n",
       "      ipadSc_urls.num  lang.num  vpp_lic  \n",
       "115                 5         3        1  \n",
       "1479                5         1        1  "
      ]
     },
     "execution_count": 185,
     "metadata": {},
     "output_type": "execute_result"
    }
   ],
   "source": [
    "data[data.price > 100]"
   ]
  },
  {
   "cell_type": "markdown",
   "metadata": {},
   "source": [
    "---"
   ]
  },
  {
   "cell_type": "markdown",
   "metadata": {},
   "source": [
    "#### Задание 0"
   ]
  },
  {
   "cell_type": "markdown",
   "metadata": {},
   "source": [
    "О чём данные? (судя по столбцам)"
   ]
  },
  {
   "cell_type": "markdown",
   "metadata": {},
   "source": [
    "---"
   ]
  },
  {
   "cell_type": "markdown",
   "metadata": {},
   "source": [
    "Все значения датафрейма:"
   ]
  },
  {
   "cell_type": "code",
   "execution_count": 58,
   "metadata": {
    "ExecuteTime": {
     "end_time": "2020-06-22T12:31:17.075458Z",
     "start_time": "2020-06-22T12:31:17.065413Z"
    }
   },
   "outputs": [
    {
     "data": {
      "text/plain": [
       "array([[1, 'PAC-MAN Premium', 100788224, ..., 5, 10, 1],\n",
       "       [2, 'Evernote - stay organized', 158578688, ..., 5, 23, 1],\n",
       "       [3, 'WeatherBug - Local Weather, Radar, Maps, Alerts', 100524032,\n",
       "        ..., 5, 3, 1],\n",
       "       ...,\n",
       "       [11087, 'Bret Michaels Emojis + Lyric Keyboard', 111322112, ...,\n",
       "        1, 1, 1],\n",
       "       [11089, 'VR Roller Coaster World - Virtual Reality', 97235968,\n",
       "        ..., 0, 2, 1],\n",
       "       [11097, 'Escape the Sweet Shop Series', 90898432, ..., 0, 2, 1]],\n",
       "      dtype=object)"
      ]
     },
     "execution_count": 58,
     "metadata": {},
     "output_type": "execute_result"
    }
   ],
   "source": [
    "# одна строка == описание одного объекта, в данном случае -- приложения из AppStore\n",
    "# data.values - конвертирует DataFrame в numpy массив\n",
    "data.values"
   ]
  },
  {
   "cell_type": "code",
   "execution_count": 9,
   "metadata": {
    "ExecuteTime": {
     "end_time": "2020-06-18T13:26:14.719260Z",
     "start_time": "2020-06-18T13:26:14.711348Z"
    }
   },
   "outputs": [
    {
     "data": {
      "text/plain": [
       "array([1, 'PAC-MAN Premium', 100788224, 'USD', 3.99, 21292, 26, 4.0, 4.5,\n",
       "       '6.3.5', '4+', 'Games', 38, 5, 10, 1], dtype=object)"
      ]
     },
     "execution_count": 9,
     "metadata": {},
     "output_type": "execute_result"
    }
   ],
   "source": [
    "data.values[0]"
   ]
  },
  {
   "cell_type": "code",
   "execution_count": 81,
   "metadata": {
    "ExecuteTime": {
     "end_time": "2020-06-22T12:51:25.761138Z",
     "start_time": "2020-06-22T12:51:25.746586Z"
    }
   },
   "outputs": [
    {
     "data": {
      "text/plain": [
       "3.99"
      ]
     },
     "execution_count": 81,
     "metadata": {},
     "output_type": "execute_result"
    }
   ],
   "source": [
    "# data.loc[0,['price']]\n",
    "# data.loc[0:21,['price']]\n",
    "# data.loc[lambda data: data['price']>=100]\n",
    "data.loc[(data['price']>=100) & (data['price']<=250)]\n",
    "data.loc[0:2,['price']]\n",
    "data.iloc[:100,:5]\n",
    "data['price'][281656475]"
   ]
  },
  {
   "cell_type": "code",
   "execution_count": 82,
   "metadata": {
    "ExecuteTime": {
     "end_time": "2020-06-22T12:52:21.241555Z",
     "start_time": "2020-06-22T12:52:21.236522Z"
    }
   },
   "outputs": [
    {
     "data": {
      "text/plain": [
       "(7197, 16)"
      ]
     },
     "execution_count": 82,
     "metadata": {},
     "output_type": "execute_result"
    }
   ],
   "source": [
    "data.shape"
   ]
  },
  {
   "cell_type": "markdown",
   "metadata": {},
   "source": [
    "-- то есть 7197 строк и 17 столбцов."
   ]
  },
  {
   "cell_type": "markdown",
   "metadata": {},
   "source": [
    "Важно уметь обращаться к определённой строке или столбцу dataframe'а. Индексирование очень похоже на numpy, однако есть свои тонкости:"
   ]
  },
  {
   "cell_type": "markdown",
   "metadata": {},
   "source": [
    "* Получить весь столбец (в даном случае столбец 'track_name'):"
   ]
  },
  {
   "cell_type": "code",
   "execution_count": 83,
   "metadata": {
    "ExecuteTime": {
     "end_time": "2020-06-22T12:52:33.943667Z",
     "start_time": "2020-06-22T12:52:33.937029Z"
    },
    "scrolled": true
   },
   "outputs": [
    {
     "data": {
      "text/plain": [
       "id\n",
       "281656475                                       PAC-MAN Premium\n",
       "281796108                             Evernote - stay organized\n",
       "281940292       WeatherBug - Local Weather, Radar, Maps, Alerts\n",
       "282614216     eBay: Best App to Buy, Sell, Save! Online Shop...\n",
       "282935706                                                 Bible\n",
       "                                    ...                        \n",
       "1187617475                                                Kubik\n",
       "1187682390                                    VR Roller-Coaster\n",
       "1187779532                Bret Michaels Emojis + Lyric Keyboard\n",
       "1187838770            VR Roller Coaster World - Virtual Reality\n",
       "1188375727                         Escape the Sweet Shop Series\n",
       "Name: track_name, Length: 7197, dtype: object"
      ]
     },
     "execution_count": 83,
     "metadata": {},
     "output_type": "execute_result"
    }
   ],
   "source": [
    "data['track_name']"
   ]
  },
  {
   "cell_type": "code",
   "execution_count": 84,
   "metadata": {
    "ExecuteTime": {
     "end_time": "2020-06-22T12:52:37.133682Z",
     "start_time": "2020-06-22T12:52:37.128667Z"
    }
   },
   "outputs": [
    {
     "data": {
      "text/plain": [
       "pandas.core.series.Series"
      ]
     },
     "execution_count": 84,
     "metadata": {},
     "output_type": "execute_result"
    }
   ],
   "source": [
    "type(data['track_name'])"
   ]
  },
  {
   "cell_type": "code",
   "execution_count": 85,
   "metadata": {
    "ExecuteTime": {
     "end_time": "2020-06-22T12:52:41.518786Z",
     "start_time": "2020-06-22T12:52:41.512809Z"
    }
   },
   "outputs": [
    {
     "data": {
      "text/plain": [
       "id\n",
       "281656475                                    PAC-MAN Premium\n",
       "281796108                          Evernote - stay organized\n",
       "281940292    WeatherBug - Local Weather, Radar, Maps, Alerts\n",
       "Name: track_name, dtype: object"
      ]
     },
     "execution_count": 85,
     "metadata": {},
     "output_type": "execute_result"
    }
   ],
   "source": [
    "data['track_name'][:3]"
   ]
  },
  {
   "cell_type": "markdown",
   "metadata": {},
   "source": [
    "`pandas.core.series.Series` -- это тип подвыборки датафрейма. С этим типом работают реже, но стоит знать, что он есть."
   ]
  },
  {
   "cell_type": "markdown",
   "metadata": {},
   "source": [
    "* Получить определённую строку:"
   ]
  },
  {
   "cell_type": "code",
   "execution_count": 86,
   "metadata": {
    "ExecuteTime": {
     "end_time": "2020-06-22T12:55:10.721975Z",
     "start_time": "2020-06-22T12:55:10.716921Z"
    }
   },
   "outputs": [
    {
     "data": {
      "text/plain": [
       "'4+'"
      ]
     },
     "execution_count": 86,
     "metadata": {},
     "output_type": "execute_result"
    }
   ],
   "source": [
    "# iloc позволяет обращаться в DataFrame по номерам строк и колонок\n",
    "data.iloc[0,10]"
   ]
  },
  {
   "cell_type": "code",
   "execution_count": 118,
   "metadata": {
    "ExecuteTime": {
     "end_time": "2020-06-22T13:13:25.020677Z",
     "start_time": "2020-06-22T13:13:24.995589Z"
    }
   },
   "outputs": [],
   "source": [
    "data = pd.read_csv('./app-store-apple-data-set-10k-apps/AppleStore.csv', index_col=0)"
   ]
  },
  {
   "cell_type": "code",
   "execution_count": 119,
   "metadata": {
    "ExecuteTime": {
     "end_time": "2020-06-22T13:13:27.460285Z",
     "start_time": "2020-06-22T13:13:27.409327Z"
    }
   },
   "outputs": [
    {
     "data": {
      "text/html": [
       "<div>\n",
       "<style scoped>\n",
       "    .dataframe tbody tr th:only-of-type {\n",
       "        vertical-align: middle;\n",
       "    }\n",
       "\n",
       "    .dataframe tbody tr th {\n",
       "        vertical-align: top;\n",
       "    }\n",
       "\n",
       "    .dataframe thead th {\n",
       "        text-align: right;\n",
       "    }\n",
       "</style>\n",
       "<table border=\"1\" class=\"dataframe\">\n",
       "  <thead>\n",
       "    <tr style=\"text-align: right;\">\n",
       "      <th></th>\n",
       "      <th>id</th>\n",
       "      <th>size_bytes</th>\n",
       "      <th>price</th>\n",
       "      <th>rating_count_tot</th>\n",
       "      <th>rating_count_ver</th>\n",
       "      <th>user_rating</th>\n",
       "      <th>user_rating_ver</th>\n",
       "      <th>sup_devices.num</th>\n",
       "      <th>ipadSc_urls.num</th>\n",
       "      <th>lang.num</th>\n",
       "      <th>vpp_lic</th>\n",
       "    </tr>\n",
       "  </thead>\n",
       "  <tbody>\n",
       "    <tr>\n",
       "      <td>count</td>\n",
       "      <td>7.197000e+03</td>\n",
       "      <td>7.197000e+03</td>\n",
       "      <td>7197.000000</td>\n",
       "      <td>7.197000e+03</td>\n",
       "      <td>7197.000000</td>\n",
       "      <td>7197.000000</td>\n",
       "      <td>7197.000000</td>\n",
       "      <td>7197.000000</td>\n",
       "      <td>7197.000000</td>\n",
       "      <td>7197.000000</td>\n",
       "      <td>7197.000000</td>\n",
       "    </tr>\n",
       "    <tr>\n",
       "      <td>mean</td>\n",
       "      <td>8.631310e+08</td>\n",
       "      <td>1.991345e+08</td>\n",
       "      <td>1.726218</td>\n",
       "      <td>1.289291e+04</td>\n",
       "      <td>460.373906</td>\n",
       "      <td>3.526956</td>\n",
       "      <td>3.253578</td>\n",
       "      <td>37.361817</td>\n",
       "      <td>3.707100</td>\n",
       "      <td>5.434903</td>\n",
       "      <td>0.993053</td>\n",
       "    </tr>\n",
       "    <tr>\n",
       "      <td>std</td>\n",
       "      <td>2.712368e+08</td>\n",
       "      <td>3.592069e+08</td>\n",
       "      <td>5.833006</td>\n",
       "      <td>7.573941e+04</td>\n",
       "      <td>3920.455183</td>\n",
       "      <td>1.517948</td>\n",
       "      <td>1.809363</td>\n",
       "      <td>3.737715</td>\n",
       "      <td>1.986005</td>\n",
       "      <td>7.919593</td>\n",
       "      <td>0.083066</td>\n",
       "    </tr>\n",
       "    <tr>\n",
       "      <td>min</td>\n",
       "      <td>2.816565e+08</td>\n",
       "      <td>5.898240e+05</td>\n",
       "      <td>0.000000</td>\n",
       "      <td>0.000000e+00</td>\n",
       "      <td>0.000000</td>\n",
       "      <td>0.000000</td>\n",
       "      <td>0.000000</td>\n",
       "      <td>9.000000</td>\n",
       "      <td>0.000000</td>\n",
       "      <td>0.000000</td>\n",
       "      <td>0.000000</td>\n",
       "    </tr>\n",
       "    <tr>\n",
       "      <td>25%</td>\n",
       "      <td>6.000937e+08</td>\n",
       "      <td>4.692275e+07</td>\n",
       "      <td>0.000000</td>\n",
       "      <td>2.800000e+01</td>\n",
       "      <td>1.000000</td>\n",
       "      <td>3.500000</td>\n",
       "      <td>2.500000</td>\n",
       "      <td>37.000000</td>\n",
       "      <td>3.000000</td>\n",
       "      <td>1.000000</td>\n",
       "      <td>1.000000</td>\n",
       "    </tr>\n",
       "    <tr>\n",
       "      <td>50%</td>\n",
       "      <td>9.781482e+08</td>\n",
       "      <td>9.715302e+07</td>\n",
       "      <td>0.000000</td>\n",
       "      <td>3.000000e+02</td>\n",
       "      <td>23.000000</td>\n",
       "      <td>4.000000</td>\n",
       "      <td>4.000000</td>\n",
       "      <td>37.000000</td>\n",
       "      <td>5.000000</td>\n",
       "      <td>1.000000</td>\n",
       "      <td>1.000000</td>\n",
       "    </tr>\n",
       "    <tr>\n",
       "      <td>75%</td>\n",
       "      <td>1.082310e+09</td>\n",
       "      <td>1.819249e+08</td>\n",
       "      <td>1.990000</td>\n",
       "      <td>2.793000e+03</td>\n",
       "      <td>140.000000</td>\n",
       "      <td>4.500000</td>\n",
       "      <td>4.500000</td>\n",
       "      <td>38.000000</td>\n",
       "      <td>5.000000</td>\n",
       "      <td>8.000000</td>\n",
       "      <td>1.000000</td>\n",
       "    </tr>\n",
       "    <tr>\n",
       "      <td>max</td>\n",
       "      <td>1.188376e+09</td>\n",
       "      <td>4.025970e+09</td>\n",
       "      <td>299.990000</td>\n",
       "      <td>2.974676e+06</td>\n",
       "      <td>177050.000000</td>\n",
       "      <td>5.000000</td>\n",
       "      <td>5.000000</td>\n",
       "      <td>47.000000</td>\n",
       "      <td>5.000000</td>\n",
       "      <td>75.000000</td>\n",
       "      <td>1.000000</td>\n",
       "    </tr>\n",
       "  </tbody>\n",
       "</table>\n",
       "</div>"
      ],
      "text/plain": [
       "                 id    size_bytes        price  rating_count_tot  \\\n",
       "count  7.197000e+03  7.197000e+03  7197.000000      7.197000e+03   \n",
       "mean   8.631310e+08  1.991345e+08     1.726218      1.289291e+04   \n",
       "std    2.712368e+08  3.592069e+08     5.833006      7.573941e+04   \n",
       "min    2.816565e+08  5.898240e+05     0.000000      0.000000e+00   \n",
       "25%    6.000937e+08  4.692275e+07     0.000000      2.800000e+01   \n",
       "50%    9.781482e+08  9.715302e+07     0.000000      3.000000e+02   \n",
       "75%    1.082310e+09  1.819249e+08     1.990000      2.793000e+03   \n",
       "max    1.188376e+09  4.025970e+09   299.990000      2.974676e+06   \n",
       "\n",
       "       rating_count_ver  user_rating  user_rating_ver  sup_devices.num  \\\n",
       "count       7197.000000  7197.000000      7197.000000      7197.000000   \n",
       "mean         460.373906     3.526956         3.253578        37.361817   \n",
       "std         3920.455183     1.517948         1.809363         3.737715   \n",
       "min            0.000000     0.000000         0.000000         9.000000   \n",
       "25%            1.000000     3.500000         2.500000        37.000000   \n",
       "50%           23.000000     4.000000         4.000000        37.000000   \n",
       "75%          140.000000     4.500000         4.500000        38.000000   \n",
       "max       177050.000000     5.000000         5.000000        47.000000   \n",
       "\n",
       "       ipadSc_urls.num     lang.num      vpp_lic  \n",
       "count      7197.000000  7197.000000  7197.000000  \n",
       "mean          3.707100     5.434903     0.993053  \n",
       "std           1.986005     7.919593     0.083066  \n",
       "min           0.000000     0.000000     0.000000  \n",
       "25%           3.000000     1.000000     1.000000  \n",
       "50%           5.000000     1.000000     1.000000  \n",
       "75%           5.000000     8.000000     1.000000  \n",
       "max           5.000000    75.000000     1.000000  "
      ]
     },
     "execution_count": 119,
     "metadata": {},
     "output_type": "execute_result"
    }
   ],
   "source": [
    "data.describe()\n",
    "# data.iloc[1,:]\n",
    "# data.loc[1,['track_name', 'price']]\n",
    "# data.index\n",
    "# data.iloc[1,1]"
   ]
  },
  {
   "cell_type": "code",
   "execution_count": 120,
   "metadata": {
    "ExecuteTime": {
     "end_time": "2020-06-22T13:13:58.039374Z",
     "start_time": "2020-06-22T13:13:58.021033Z"
    }
   },
   "outputs": [
    {
     "name": "stdout",
     "output_type": "stream",
     "text": [
      "Index(['id', 'track_name', 'size_bytes', 'currency', 'price',\n",
      "       'rating_count_tot', 'rating_count_ver', 'user_rating',\n",
      "       'user_rating_ver', 'ver', 'cont_rating', 'prime_genre',\n",
      "       'sup_devices.num', 'ipadSc_urls.num', 'lang.num', 'vpp_lic'],\n",
      "      dtype='object')\n"
     ]
    },
    {
     "data": {
      "text/html": [
       "<div>\n",
       "<style scoped>\n",
       "    .dataframe tbody tr th:only-of-type {\n",
       "        vertical-align: middle;\n",
       "    }\n",
       "\n",
       "    .dataframe tbody tr th {\n",
       "        vertical-align: top;\n",
       "    }\n",
       "\n",
       "    .dataframe thead th {\n",
       "        text-align: right;\n",
       "    }\n",
       "</style>\n",
       "<table border=\"1\" class=\"dataframe\">\n",
       "  <thead>\n",
       "    <tr style=\"text-align: right;\">\n",
       "      <th></th>\n",
       "      <th>track_name</th>\n",
       "      <th>price</th>\n",
       "      <th>user_rating</th>\n",
       "    </tr>\n",
       "  </thead>\n",
       "  <tbody>\n",
       "    <tr>\n",
       "      <td>1</td>\n",
       "      <td>PAC-MAN Premium</td>\n",
       "      <td>3.99</td>\n",
       "      <td>4.0</td>\n",
       "    </tr>\n",
       "    <tr>\n",
       "      <td>2</td>\n",
       "      <td>Evernote - stay organized</td>\n",
       "      <td>0.00</td>\n",
       "      <td>4.0</td>\n",
       "    </tr>\n",
       "    <tr>\n",
       "      <td>3</td>\n",
       "      <td>WeatherBug - Local Weather, Radar, Maps, Alerts</td>\n",
       "      <td>0.00</td>\n",
       "      <td>3.5</td>\n",
       "    </tr>\n",
       "    <tr>\n",
       "      <td>4</td>\n",
       "      <td>eBay: Best App to Buy, Sell, Save! Online Shop...</td>\n",
       "      <td>0.00</td>\n",
       "      <td>4.0</td>\n",
       "    </tr>\n",
       "    <tr>\n",
       "      <td>5</td>\n",
       "      <td>Bible</td>\n",
       "      <td>0.00</td>\n",
       "      <td>4.5</td>\n",
       "    </tr>\n",
       "    <tr>\n",
       "      <td>...</td>\n",
       "      <td>...</td>\n",
       "      <td>...</td>\n",
       "      <td>...</td>\n",
       "    </tr>\n",
       "    <tr>\n",
       "      <td>11081</td>\n",
       "      <td>Kubik</td>\n",
       "      <td>0.00</td>\n",
       "      <td>4.5</td>\n",
       "    </tr>\n",
       "    <tr>\n",
       "      <td>11082</td>\n",
       "      <td>VR Roller-Coaster</td>\n",
       "      <td>0.00</td>\n",
       "      <td>4.5</td>\n",
       "    </tr>\n",
       "    <tr>\n",
       "      <td>11087</td>\n",
       "      <td>Bret Michaels Emojis + Lyric Keyboard</td>\n",
       "      <td>1.99</td>\n",
       "      <td>4.5</td>\n",
       "    </tr>\n",
       "    <tr>\n",
       "      <td>11089</td>\n",
       "      <td>VR Roller Coaster World - Virtual Reality</td>\n",
       "      <td>0.00</td>\n",
       "      <td>4.5</td>\n",
       "    </tr>\n",
       "    <tr>\n",
       "      <td>11097</td>\n",
       "      <td>Escape the Sweet Shop Series</td>\n",
       "      <td>0.00</td>\n",
       "      <td>5.0</td>\n",
       "    </tr>\n",
       "  </tbody>\n",
       "</table>\n",
       "<p>7197 rows × 3 columns</p>\n",
       "</div>"
      ],
      "text/plain": [
       "                                              track_name  price  user_rating\n",
       "1                                        PAC-MAN Premium   3.99          4.0\n",
       "2                              Evernote - stay organized   0.00          4.0\n",
       "3        WeatherBug - Local Weather, Radar, Maps, Alerts   0.00          3.5\n",
       "4      eBay: Best App to Buy, Sell, Save! Online Shop...   0.00          4.0\n",
       "5                                                  Bible   0.00          4.5\n",
       "...                                                  ...    ...          ...\n",
       "11081                                              Kubik   0.00          4.5\n",
       "11082                                  VR Roller-Coaster   0.00          4.5\n",
       "11087              Bret Michaels Emojis + Lyric Keyboard   1.99          4.5\n",
       "11089          VR Roller Coaster World - Virtual Reality   0.00          4.5\n",
       "11097                       Escape the Sweet Shop Series   0.00          5.0\n",
       "\n",
       "[7197 rows x 3 columns]"
      ]
     },
     "execution_count": 120,
     "metadata": {},
     "output_type": "execute_result"
    }
   ],
   "source": [
    "# Как много по времени займет подготовка статьи?\n",
    "# На каких конференциях лучше публиковаться по NLP и маршрутизации?\n",
    "# Когда лучше начинать подготовку, как думаешь?\n",
    "# По данным сравнение - лучше на открытых?\n",
    "# Как ты думаешь, реально будет выступить на конференции в этом году, если статью примут или из-за ковид все сдвинется?\n",
    "\n",
    "print(data.columns)\n",
    "data.loc[:,['track_name','price','user_rating']].sort_index()\n",
    "# data['best'] = map(lambda x,y: y/x if x != 0 else y, data['user_rating'], data['price'])\n",
    "# data['best'] = data['price']/data['user_rating'] if data['user_rating'] != 0 else data['price']"
   ]
  },
  {
   "cell_type": "markdown",
   "metadata": {},
   "source": [
    "Более продвинутое и полезное индексирование:"
   ]
  },
  {
   "cell_type": "code",
   "execution_count": 15,
   "metadata": {
    "ExecuteTime": {
     "end_time": "2020-06-18T13:27:51.643575Z",
     "start_time": "2020-06-18T13:27:51.638978Z"
    }
   },
   "outputs": [
    {
     "data": {
      "text/plain": [
       "'4+'"
      ]
     },
     "execution_count": 15,
     "metadata": {},
     "output_type": "execute_result"
    }
   ],
   "source": [
    "data.iloc[5, 10]"
   ]
  },
  {
   "cell_type": "markdown",
   "metadata": {},
   "source": [
    "-- `data.iloc[i, j]`, где `i` -- номер строки, `j` -- номер столбца"
   ]
  },
  {
   "cell_type": "markdown",
   "metadata": {},
   "source": [
    "Почти все типы индексирования:"
   ]
  },
  {
   "cell_type": "markdown",
   "metadata": {},
   "source": [
    "* к строкам по числовому индексу, к столбцам -- по имени"
   ]
  },
  {
   "cell_type": "code",
   "execution_count": 32,
   "metadata": {},
   "outputs": [
    {
     "data": {
      "text/html": [
       "<div>\n",
       "<style scoped>\n",
       "    .dataframe tbody tr th:only-of-type {\n",
       "        vertical-align: middle;\n",
       "    }\n",
       "\n",
       "    .dataframe tbody tr th {\n",
       "        vertical-align: top;\n",
       "    }\n",
       "\n",
       "    .dataframe thead th {\n",
       "        text-align: right;\n",
       "    }\n",
       "</style>\n",
       "<table border=\"1\" class=\"dataframe\">\n",
       "  <thead>\n",
       "    <tr style=\"text-align: right;\">\n",
       "      <th></th>\n",
       "      <th>track_name</th>\n",
       "      <th>id</th>\n",
       "    </tr>\n",
       "  </thead>\n",
       "  <tbody>\n",
       "    <tr>\n",
       "      <th>0</th>\n",
       "      <td>PAC-MAN Premium</td>\n",
       "      <td>281656475</td>\n",
       "    </tr>\n",
       "    <tr>\n",
       "      <th>1</th>\n",
       "      <td>Evernote - stay organized</td>\n",
       "      <td>281796108</td>\n",
       "    </tr>\n",
       "    <tr>\n",
       "      <th>2</th>\n",
       "      <td>WeatherBug - Local Weather, Radar, Maps, Alerts</td>\n",
       "      <td>281940292</td>\n",
       "    </tr>\n",
       "  </tbody>\n",
       "</table>\n",
       "</div>"
      ],
      "text/plain": [
       "                                        track_name         id\n",
       "0                                  PAC-MAN Premium  281656475\n",
       "1                        Evernote - stay organized  281796108\n",
       "2  WeatherBug - Local Weather, Radar, Maps, Alerts  281940292"
      ]
     },
     "execution_count": 32,
     "metadata": {},
     "output_type": "execute_result"
    }
   ],
   "source": [
    "data.loc[[0, 1, 2], ['track_name', 'id']]"
   ]
  },
  {
   "cell_type": "markdown",
   "metadata": {},
   "source": [
    "* к строкам и к столбцам по числовому индексу"
   ]
  },
  {
   "cell_type": "code",
   "execution_count": 34,
   "metadata": {},
   "outputs": [
    {
     "data": {
      "text/html": [
       "<div>\n",
       "<style scoped>\n",
       "    .dataframe tbody tr th:only-of-type {\n",
       "        vertical-align: middle;\n",
       "    }\n",
       "\n",
       "    .dataframe tbody tr th {\n",
       "        vertical-align: top;\n",
       "    }\n",
       "\n",
       "    .dataframe thead th {\n",
       "        text-align: right;\n",
       "    }\n",
       "</style>\n",
       "<table border=\"1\" class=\"dataframe\">\n",
       "  <thead>\n",
       "    <tr style=\"text-align: right;\">\n",
       "      <th></th>\n",
       "      <th>track_name</th>\n",
       "      <th>id</th>\n",
       "    </tr>\n",
       "  </thead>\n",
       "  <tbody>\n",
       "    <tr>\n",
       "      <th>1</th>\n",
       "      <td>Evernote - stay organized</td>\n",
       "      <td>281796108</td>\n",
       "    </tr>\n",
       "    <tr>\n",
       "      <th>3</th>\n",
       "      <td>eBay: Best App to Buy, Sell, Save! Online Shop...</td>\n",
       "      <td>282614216</td>\n",
       "    </tr>\n",
       "    <tr>\n",
       "      <th>5</th>\n",
       "      <td>Shanghai Mahjong</td>\n",
       "      <td>283619399</td>\n",
       "    </tr>\n",
       "  </tbody>\n",
       "</table>\n",
       "</div>"
      ],
      "text/plain": [
       "                                          track_name         id\n",
       "1                          Evernote - stay organized  281796108\n",
       "3  eBay: Best App to Buy, Sell, Save! Online Shop...  282614216\n",
       "5                                   Shanghai Mahjong  283619399"
      ]
     },
     "execution_count": 34,
     "metadata": {},
     "output_type": "execute_result"
    }
   ],
   "source": [
    "data.iloc[[1, 3, 5], [2, 1]]"
   ]
  },
  {
   "cell_type": "markdown",
   "metadata": {},
   "source": [
    "* поддерживает и то, и то, но **запрещён**:"
   ]
  },
  {
   "cell_type": "code",
   "execution_count": 36,
   "metadata": {},
   "outputs": [
    {
     "name": "stderr",
     "output_type": "stream",
     "text": [
      "c:\\users\\izakharkin\\anaconda3\\envs\\vision\\lib\\site-packages\\ipykernel_launcher.py:1: DeprecationWarning: \n",
      ".ix is deprecated. Please use\n",
      ".loc for label based indexing or\n",
      ".iloc for positional indexing\n",
      "\n",
      "See the documentation here:\n",
      "http://pandas.pydata.org/pandas-docs/stable/indexing.html#ix-indexer-is-deprecated\n",
      "  \"\"\"Entry point for launching an IPython kernel.\n"
     ]
    },
    {
     "data": {
      "text/html": [
       "<div>\n",
       "<style scoped>\n",
       "    .dataframe tbody tr th:only-of-type {\n",
       "        vertical-align: middle;\n",
       "    }\n",
       "\n",
       "    .dataframe tbody tr th {\n",
       "        vertical-align: top;\n",
       "    }\n",
       "\n",
       "    .dataframe thead th {\n",
       "        text-align: right;\n",
       "    }\n",
       "</style>\n",
       "<table border=\"1\" class=\"dataframe\">\n",
       "  <thead>\n",
       "    <tr style=\"text-align: right;\">\n",
       "      <th></th>\n",
       "      <th>track_name</th>\n",
       "      <th>id</th>\n",
       "    </tr>\n",
       "  </thead>\n",
       "  <tbody>\n",
       "    <tr>\n",
       "      <th>2</th>\n",
       "      <td>WeatherBug - Local Weather, Radar, Maps, Alerts</td>\n",
       "      <td>281940292</td>\n",
       "    </tr>\n",
       "    <tr>\n",
       "      <th>1</th>\n",
       "      <td>Evernote - stay organized</td>\n",
       "      <td>281796108</td>\n",
       "    </tr>\n",
       "    <tr>\n",
       "      <th>0</th>\n",
       "      <td>PAC-MAN Premium</td>\n",
       "      <td>281656475</td>\n",
       "    </tr>\n",
       "  </tbody>\n",
       "</table>\n",
       "</div>"
      ],
      "text/plain": [
       "                                        track_name         id\n",
       "2  WeatherBug - Local Weather, Radar, Maps, Alerts  281940292\n",
       "1                        Evernote - stay organized  281796108\n",
       "0                                  PAC-MAN Premium  281656475"
      ]
     },
     "execution_count": 36,
     "metadata": {},
     "output_type": "execute_result"
    }
   ],
   "source": [
    "data.ix[[2,1,0], ['track_name', 'id']]"
   ]
  },
  {
   "cell_type": "code",
   "execution_count": 38,
   "metadata": {},
   "outputs": [
    {
     "name": "stderr",
     "output_type": "stream",
     "text": [
      "c:\\users\\izakharkin\\anaconda3\\envs\\vision\\lib\\site-packages\\ipykernel_launcher.py:1: DeprecationWarning: \n",
      ".ix is deprecated. Please use\n",
      ".loc for label based indexing or\n",
      ".iloc for positional indexing\n",
      "\n",
      "See the documentation here:\n",
      "http://pandas.pydata.org/pandas-docs/stable/indexing.html#ix-indexer-is-deprecated\n",
      "  \"\"\"Entry point for launching an IPython kernel.\n"
     ]
    },
    {
     "data": {
      "text/html": [
       "<div>\n",
       "<style scoped>\n",
       "    .dataframe tbody tr th:only-of-type {\n",
       "        vertical-align: middle;\n",
       "    }\n",
       "\n",
       "    .dataframe tbody tr th {\n",
       "        vertical-align: top;\n",
       "    }\n",
       "\n",
       "    .dataframe thead th {\n",
       "        text-align: right;\n",
       "    }\n",
       "</style>\n",
       "<table border=\"1\" class=\"dataframe\">\n",
       "  <thead>\n",
       "    <tr style=\"text-align: right;\">\n",
       "      <th></th>\n",
       "      <th>track_name</th>\n",
       "      <th>id</th>\n",
       "    </tr>\n",
       "  </thead>\n",
       "  <tbody>\n",
       "    <tr>\n",
       "      <th>0</th>\n",
       "      <td>PAC-MAN Premium</td>\n",
       "      <td>281656475</td>\n",
       "    </tr>\n",
       "    <tr>\n",
       "      <th>1</th>\n",
       "      <td>Evernote - stay organized</td>\n",
       "      <td>281796108</td>\n",
       "    </tr>\n",
       "    <tr>\n",
       "      <th>2</th>\n",
       "      <td>WeatherBug - Local Weather, Radar, Maps, Alerts</td>\n",
       "      <td>281940292</td>\n",
       "    </tr>\n",
       "  </tbody>\n",
       "</table>\n",
       "</div>"
      ],
      "text/plain": [
       "                                        track_name         id\n",
       "0                                  PAC-MAN Premium  281656475\n",
       "1                        Evernote - stay organized  281796108\n",
       "2  WeatherBug - Local Weather, Radar, Maps, Alerts  281940292"
      ]
     },
     "execution_count": 38,
     "metadata": {},
     "output_type": "execute_result"
    }
   ],
   "source": [
    "data.ix[[0,1,2], [2, 1]]"
   ]
  },
  {
   "cell_type": "markdown",
   "metadata": {},
   "source": [
    "Точно также дело обстоит со **срезами**:"
   ]
  },
  {
   "cell_type": "code",
   "execution_count": 42,
   "metadata": {
    "scrolled": true
   },
   "outputs": [
    {
     "data": {
      "text/html": [
       "<div>\n",
       "<style scoped>\n",
       "    .dataframe tbody tr th:only-of-type {\n",
       "        vertical-align: middle;\n",
       "    }\n",
       "\n",
       "    .dataframe tbody tr th {\n",
       "        vertical-align: top;\n",
       "    }\n",
       "\n",
       "    .dataframe thead th {\n",
       "        text-align: right;\n",
       "    }\n",
       "</style>\n",
       "<table border=\"1\" class=\"dataframe\">\n",
       "  <thead>\n",
       "    <tr style=\"text-align: right;\">\n",
       "      <th></th>\n",
       "      <th>Unnamed: 0</th>\n",
       "      <th>id</th>\n",
       "      <th>track_name</th>\n",
       "      <th>size_bytes</th>\n",
       "      <th>currency</th>\n",
       "    </tr>\n",
       "  </thead>\n",
       "  <tbody>\n",
       "    <tr>\n",
       "      <th>5</th>\n",
       "      <td>6</td>\n",
       "      <td>283619399</td>\n",
       "      <td>Shanghai Mahjong</td>\n",
       "      <td>10485713</td>\n",
       "      <td>USD</td>\n",
       "    </tr>\n",
       "    <tr>\n",
       "      <th>6</th>\n",
       "      <td>7</td>\n",
       "      <td>283646709</td>\n",
       "      <td>PayPal - Send and request money safely</td>\n",
       "      <td>227795968</td>\n",
       "      <td>USD</td>\n",
       "    </tr>\n",
       "    <tr>\n",
       "      <th>7</th>\n",
       "      <td>8</td>\n",
       "      <td>284035177</td>\n",
       "      <td>Pandora - Music &amp; Radio</td>\n",
       "      <td>130242560</td>\n",
       "      <td>USD</td>\n",
       "    </tr>\n",
       "    <tr>\n",
       "      <th>8</th>\n",
       "      <td>9</td>\n",
       "      <td>284666222</td>\n",
       "      <td>PCalc - The Best Calculator</td>\n",
       "      <td>49250304</td>\n",
       "      <td>USD</td>\n",
       "    </tr>\n",
       "    <tr>\n",
       "      <th>9</th>\n",
       "      <td>10</td>\n",
       "      <td>284736660</td>\n",
       "      <td>Ms. PAC-MAN</td>\n",
       "      <td>70023168</td>\n",
       "      <td>USD</td>\n",
       "    </tr>\n",
       "    <tr>\n",
       "      <th>10</th>\n",
       "      <td>11</td>\n",
       "      <td>284791396</td>\n",
       "      <td>Solitaire by MobilityWare</td>\n",
       "      <td>49618944</td>\n",
       "      <td>USD</td>\n",
       "    </tr>\n",
       "    <tr>\n",
       "      <th>11</th>\n",
       "      <td>12</td>\n",
       "      <td>284815117</td>\n",
       "      <td>SCRABBLE Premium</td>\n",
       "      <td>227547136</td>\n",
       "      <td>USD</td>\n",
       "    </tr>\n",
       "    <tr>\n",
       "      <th>12</th>\n",
       "      <td>13</td>\n",
       "      <td>284815942</td>\n",
       "      <td>Google – Search made just for mobile</td>\n",
       "      <td>179979264</td>\n",
       "      <td>USD</td>\n",
       "    </tr>\n",
       "    <tr>\n",
       "      <th>13</th>\n",
       "      <td>14</td>\n",
       "      <td>284847138</td>\n",
       "      <td>Bank of America - Mobile Banking</td>\n",
       "      <td>160925696</td>\n",
       "      <td>USD</td>\n",
       "    </tr>\n",
       "    <tr>\n",
       "      <th>14</th>\n",
       "      <td>15</td>\n",
       "      <td>284862767</td>\n",
       "      <td>FreeCell</td>\n",
       "      <td>55153664</td>\n",
       "      <td>USD</td>\n",
       "    </tr>\n",
       "    <tr>\n",
       "      <th>15</th>\n",
       "      <td>16</td>\n",
       "      <td>284876795</td>\n",
       "      <td>TripAdvisor Hotels Flights Restaurants</td>\n",
       "      <td>207907840</td>\n",
       "      <td>USD</td>\n",
       "    </tr>\n",
       "    <tr>\n",
       "      <th>16</th>\n",
       "      <td>17</td>\n",
       "      <td>284882215</td>\n",
       "      <td>Facebook</td>\n",
       "      <td>389879808</td>\n",
       "      <td>USD</td>\n",
       "    </tr>\n",
       "    <tr>\n",
       "      <th>17</th>\n",
       "      <td>18</td>\n",
       "      <td>284910350</td>\n",
       "      <td>Yelp - Nearby Restaurants, Shopping &amp; Services</td>\n",
       "      <td>167407616</td>\n",
       "      <td>USD</td>\n",
       "    </tr>\n",
       "    <tr>\n",
       "      <th>18</th>\n",
       "      <td>20</td>\n",
       "      <td>284993459</td>\n",
       "      <td>Shazam - Discover music, artists, videos &amp; lyrics</td>\n",
       "      <td>147093504</td>\n",
       "      <td>USD</td>\n",
       "    </tr>\n",
       "    <tr>\n",
       "      <th>19</th>\n",
       "      <td>21</td>\n",
       "      <td>285005463</td>\n",
       "      <td>Crash Bandicoot Nitro Kart 3D</td>\n",
       "      <td>10735026</td>\n",
       "      <td>USD</td>\n",
       "    </tr>\n",
       "    <tr>\n",
       "      <th>20</th>\n",
       "      <td>22</td>\n",
       "      <td>285946052</td>\n",
       "      <td>iQuran</td>\n",
       "      <td>70707916</td>\n",
       "      <td>USD</td>\n",
       "    </tr>\n",
       "    <tr>\n",
       "      <th>21</th>\n",
       "      <td>23</td>\n",
       "      <td>285994151</td>\n",
       "      <td>:) Sudoku +</td>\n",
       "      <td>6169600</td>\n",
       "      <td>USD</td>\n",
       "    </tr>\n",
       "    <tr>\n",
       "      <th>22</th>\n",
       "      <td>24</td>\n",
       "      <td>286058814</td>\n",
       "      <td>Yahoo Sports - Teams, Scores, News &amp; Highlights</td>\n",
       "      <td>130583552</td>\n",
       "      <td>USD</td>\n",
       "    </tr>\n",
       "    <tr>\n",
       "      <th>23</th>\n",
       "      <td>25</td>\n",
       "      <td>286070473</td>\n",
       "      <td>Mileage Log | Fahrtenbuch</td>\n",
       "      <td>71203840</td>\n",
       "      <td>USD</td>\n",
       "    </tr>\n",
       "    <tr>\n",
       "      <th>24</th>\n",
       "      <td>27</td>\n",
       "      <td>286799607</td>\n",
       "      <td>Cleartune - Chromatic Tuner</td>\n",
       "      <td>11423008</td>\n",
       "      <td>USD</td>\n",
       "    </tr>\n",
       "    <tr>\n",
       "      <th>25</th>\n",
       "      <td>28</td>\n",
       "      <td>286906691</td>\n",
       "      <td>Lifesum – Inspiring healthy lifestyle app</td>\n",
       "      <td>188017664</td>\n",
       "      <td>USD</td>\n",
       "    </tr>\n",
       "    <tr>\n",
       "      <th>26</th>\n",
       "      <td>29</td>\n",
       "      <td>286911400</td>\n",
       "      <td>Hangman.</td>\n",
       "      <td>4765696</td>\n",
       "      <td>USD</td>\n",
       "    </tr>\n",
       "    <tr>\n",
       "      <th>27</th>\n",
       "      <td>31</td>\n",
       "      <td>288113403</td>\n",
       "      <td>iTranslate - Language Translator &amp; Dictionary</td>\n",
       "      <td>287933440</td>\n",
       "      <td>USD</td>\n",
       "    </tr>\n",
       "    <tr>\n",
       "      <th>28</th>\n",
       "      <td>32</td>\n",
       "      <td>288120394</td>\n",
       "      <td>TouchOSC</td>\n",
       "      <td>4263936</td>\n",
       "      <td>USD</td>\n",
       "    </tr>\n",
       "    <tr>\n",
       "      <th>29</th>\n",
       "      <td>33</td>\n",
       "      <td>288419283</td>\n",
       "      <td>RadarScope</td>\n",
       "      <td>172772352</td>\n",
       "      <td>USD</td>\n",
       "    </tr>\n",
       "    <tr>\n",
       "      <th>30</th>\n",
       "      <td>34</td>\n",
       "      <td>288429040</td>\n",
       "      <td>LinkedIn</td>\n",
       "      <td>273844224</td>\n",
       "      <td>USD</td>\n",
       "    </tr>\n",
       "    <tr>\n",
       "      <th>31</th>\n",
       "      <td>35</td>\n",
       "      <td>289084315</td>\n",
       "      <td>Period Tracker Deluxe</td>\n",
       "      <td>40216576</td>\n",
       "      <td>USD</td>\n",
       "    </tr>\n",
       "    <tr>\n",
       "      <th>32</th>\n",
       "      <td>36</td>\n",
       "      <td>289446241</td>\n",
       "      <td>Election 2016 Map</td>\n",
       "      <td>2386944</td>\n",
       "      <td>USD</td>\n",
       "    </tr>\n",
       "    <tr>\n",
       "      <th>33</th>\n",
       "      <td>37</td>\n",
       "      <td>289523017</td>\n",
       "      <td>Blackjack by MobilityWare</td>\n",
       "      <td>105431040</td>\n",
       "      <td>USD</td>\n",
       "    </tr>\n",
       "    <tr>\n",
       "      <th>34</th>\n",
       "      <td>39</td>\n",
       "      <td>289894882</td>\n",
       "      <td>White Noise</td>\n",
       "      <td>44129280</td>\n",
       "      <td>USD</td>\n",
       "    </tr>\n",
       "    <tr>\n",
       "      <th>...</th>\n",
       "      <td>...</td>\n",
       "      <td>...</td>\n",
       "      <td>...</td>\n",
       "      <td>...</td>\n",
       "      <td>...</td>\n",
       "    </tr>\n",
       "    <tr>\n",
       "      <th>70</th>\n",
       "      <td>80</td>\n",
       "      <td>299853944</td>\n",
       "      <td>新浪新闻-阅读最新时事热门头条资讯视频</td>\n",
       "      <td>115143680</td>\n",
       "      <td>USD</td>\n",
       "    </tr>\n",
       "    <tr>\n",
       "      <th>71</th>\n",
       "      <td>81</td>\n",
       "      <td>299949744</td>\n",
       "      <td>MotionX GPS</td>\n",
       "      <td>56481792</td>\n",
       "      <td>USD</td>\n",
       "    </tr>\n",
       "    <tr>\n",
       "      <th>72</th>\n",
       "      <td>82</td>\n",
       "      <td>300048137</td>\n",
       "      <td>AccuWeather - Weather for Life</td>\n",
       "      <td>181941248</td>\n",
       "      <td>USD</td>\n",
       "    </tr>\n",
       "    <tr>\n",
       "      <th>73</th>\n",
       "      <td>83</td>\n",
       "      <td>300238550</td>\n",
       "      <td>Mint: Personal Finance, Budget, Bills &amp; Money</td>\n",
       "      <td>162891776</td>\n",
       "      <td>USD</td>\n",
       "    </tr>\n",
       "    <tr>\n",
       "      <th>74</th>\n",
       "      <td>84</td>\n",
       "      <td>300255638</td>\n",
       "      <td>ABC News - US &amp; World News + Live Video</td>\n",
       "      <td>98108416</td>\n",
       "      <td>USD</td>\n",
       "    </tr>\n",
       "    <tr>\n",
       "      <th>75</th>\n",
       "      <td>85</td>\n",
       "      <td>300265786</td>\n",
       "      <td>Rowmote: Remote Control for Mac</td>\n",
       "      <td>54088704</td>\n",
       "      <td>USD</td>\n",
       "    </tr>\n",
       "    <tr>\n",
       "      <th>76</th>\n",
       "      <td>86</td>\n",
       "      <td>300590611</td>\n",
       "      <td>Peekaboo Barn</td>\n",
       "      <td>50155520</td>\n",
       "      <td>USD</td>\n",
       "    </tr>\n",
       "    <tr>\n",
       "      <th>77</th>\n",
       "      <td>87</td>\n",
       "      <td>300704847</td>\n",
       "      <td>Speedtest by Ookla</td>\n",
       "      <td>23936000</td>\n",
       "      <td>USD</td>\n",
       "    </tr>\n",
       "    <tr>\n",
       "      <th>78</th>\n",
       "      <td>89</td>\n",
       "      <td>301387274</td>\n",
       "      <td>Pocket God</td>\n",
       "      <td>145293312</td>\n",
       "      <td>USD</td>\n",
       "    </tr>\n",
       "    <tr>\n",
       "      <th>79</th>\n",
       "      <td>90</td>\n",
       "      <td>301521403</td>\n",
       "      <td>Nike+ Training Club - Workouts &amp; Fitness Plans</td>\n",
       "      <td>140367872</td>\n",
       "      <td>USD</td>\n",
       "    </tr>\n",
       "    <tr>\n",
       "      <th>80</th>\n",
       "      <td>91</td>\n",
       "      <td>301724680</td>\n",
       "      <td>Citi Mobile®</td>\n",
       "      <td>281244672</td>\n",
       "      <td>USD</td>\n",
       "    </tr>\n",
       "    <tr>\n",
       "      <th>81</th>\n",
       "      <td>92</td>\n",
       "      <td>302049354</td>\n",
       "      <td>Phase 10 Pro - Play Your Friends!</td>\n",
       "      <td>66695168</td>\n",
       "      <td>USD</td>\n",
       "    </tr>\n",
       "    <tr>\n",
       "      <th>82</th>\n",
       "      <td>93</td>\n",
       "      <td>302584613</td>\n",
       "      <td>Kindle – Read eBooks, Magazines &amp; Textbooks</td>\n",
       "      <td>169747456</td>\n",
       "      <td>USD</td>\n",
       "    </tr>\n",
       "    <tr>\n",
       "      <th>83</th>\n",
       "      <td>95</td>\n",
       "      <td>303058767</td>\n",
       "      <td>MASH</td>\n",
       "      <td>41691136</td>\n",
       "      <td>USD</td>\n",
       "    </tr>\n",
       "    <tr>\n",
       "      <th>84</th>\n",
       "      <td>96</td>\n",
       "      <td>303191318</td>\n",
       "      <td>同花顺-炒股、股票</td>\n",
       "      <td>122886144</td>\n",
       "      <td>USD</td>\n",
       "    </tr>\n",
       "    <tr>\n",
       "      <th>85</th>\n",
       "      <td>97</td>\n",
       "      <td>303337299</td>\n",
       "      <td>Wedding Dash Deluxe</td>\n",
       "      <td>55803904</td>\n",
       "      <td>USD</td>\n",
       "    </tr>\n",
       "    <tr>\n",
       "      <th>86</th>\n",
       "      <td>99</td>\n",
       "      <td>303849934</td>\n",
       "      <td>Beer Pong Game</td>\n",
       "      <td>188956672</td>\n",
       "      <td>USD</td>\n",
       "    </tr>\n",
       "    <tr>\n",
       "      <th>87</th>\n",
       "      <td>100</td>\n",
       "      <td>304731501</td>\n",
       "      <td>Tempo - Metronome with Setlists</td>\n",
       "      <td>22185984</td>\n",
       "      <td>USD</td>\n",
       "    </tr>\n",
       "    <tr>\n",
       "      <th>88</th>\n",
       "      <td>101</td>\n",
       "      <td>304770340</td>\n",
       "      <td>Skat</td>\n",
       "      <td>66160640</td>\n",
       "      <td>USD</td>\n",
       "    </tr>\n",
       "    <tr>\n",
       "      <th>89</th>\n",
       "      <td>102</td>\n",
       "      <td>304871603</td>\n",
       "      <td>Color Splash</td>\n",
       "      <td>28135424</td>\n",
       "      <td>USD</td>\n",
       "    </tr>\n",
       "    <tr>\n",
       "      <th>90</th>\n",
       "      <td>103</td>\n",
       "      <td>304871622</td>\n",
       "      <td>Zombieville USA</td>\n",
       "      <td>27962441</td>\n",
       "      <td>USD</td>\n",
       "    </tr>\n",
       "    <tr>\n",
       "      <th>91</th>\n",
       "      <td>104</td>\n",
       "      <td>304878510</td>\n",
       "      <td>Skype for iPhone</td>\n",
       "      <td>133238784</td>\n",
       "      <td>USD</td>\n",
       "    </tr>\n",
       "    <tr>\n",
       "      <th>92</th>\n",
       "      <td>105</td>\n",
       "      <td>305343404</td>\n",
       "      <td>Tumblr</td>\n",
       "      <td>151573504</td>\n",
       "      <td>USD</td>\n",
       "    </tr>\n",
       "    <tr>\n",
       "      <th>93</th>\n",
       "      <td>106</td>\n",
       "      <td>305557780</td>\n",
       "      <td>iSwap Faces</td>\n",
       "      <td>27069440</td>\n",
       "      <td>USD</td>\n",
       "    </tr>\n",
       "    <tr>\n",
       "      <th>94</th>\n",
       "      <td>107</td>\n",
       "      <td>305939712</td>\n",
       "      <td>Match™ - #1 Dating App.</td>\n",
       "      <td>101259264</td>\n",
       "      <td>USD</td>\n",
       "    </tr>\n",
       "    <tr>\n",
       "      <th>95</th>\n",
       "      <td>108</td>\n",
       "      <td>306169895</td>\n",
       "      <td>Tozzle - Toddler's favorite puzzle</td>\n",
       "      <td>168192000</td>\n",
       "      <td>USD</td>\n",
       "    </tr>\n",
       "    <tr>\n",
       "      <th>96</th>\n",
       "      <td>109</td>\n",
       "      <td>306257910</td>\n",
       "      <td>HomeBudget with Sync</td>\n",
       "      <td>17485824</td>\n",
       "      <td>USD</td>\n",
       "    </tr>\n",
       "    <tr>\n",
       "      <th>97</th>\n",
       "      <td>110</td>\n",
       "      <td>306375551</td>\n",
       "      <td>Wind Meter</td>\n",
       "      <td>5234688</td>\n",
       "      <td>USD</td>\n",
       "    </tr>\n",
       "    <tr>\n",
       "      <th>98</th>\n",
       "      <td>111</td>\n",
       "      <td>306468004</td>\n",
       "      <td>Map My Run+ - GPS Running &amp; Workout Tracker</td>\n",
       "      <td>237913088</td>\n",
       "      <td>USD</td>\n",
       "    </tr>\n",
       "    <tr>\n",
       "      <th>99</th>\n",
       "      <td>112</td>\n",
       "      <td>306561234</td>\n",
       "      <td>Map My Ride+ - GPS Cycling &amp; Route Tracker</td>\n",
       "      <td>233513984</td>\n",
       "      <td>USD</td>\n",
       "    </tr>\n",
       "  </tbody>\n",
       "</table>\n",
       "<p>95 rows × 5 columns</p>\n",
       "</div>"
      ],
      "text/plain": [
       "    Unnamed: 0         id                                         track_name  \\\n",
       "5            6  283619399                                   Shanghai Mahjong   \n",
       "6            7  283646709             PayPal - Send and request money safely   \n",
       "7            8  284035177                            Pandora - Music & Radio   \n",
       "8            9  284666222                        PCalc - The Best Calculator   \n",
       "9           10  284736660                                        Ms. PAC-MAN   \n",
       "10          11  284791396                          Solitaire by MobilityWare   \n",
       "11          12  284815117                                   SCRABBLE Premium   \n",
       "12          13  284815942               Google – Search made just for mobile   \n",
       "13          14  284847138                   Bank of America - Mobile Banking   \n",
       "14          15  284862767                                           FreeCell   \n",
       "15          16  284876795             TripAdvisor Hotels Flights Restaurants   \n",
       "16          17  284882215                                           Facebook   \n",
       "17          18  284910350     Yelp - Nearby Restaurants, Shopping & Services   \n",
       "18          20  284993459  Shazam - Discover music, artists, videos & lyrics   \n",
       "19          21  285005463                      Crash Bandicoot Nitro Kart 3D   \n",
       "20          22  285946052                                             iQuran   \n",
       "21          23  285994151                                        :) Sudoku +   \n",
       "22          24  286058814    Yahoo Sports - Teams, Scores, News & Highlights   \n",
       "23          25  286070473                          Mileage Log | Fahrtenbuch   \n",
       "24          27  286799607                        Cleartune - Chromatic Tuner   \n",
       "25          28  286906691          Lifesum – Inspiring healthy lifestyle app   \n",
       "26          29  286911400                                           Hangman.   \n",
       "27          31  288113403      iTranslate - Language Translator & Dictionary   \n",
       "28          32  288120394                                           TouchOSC   \n",
       "29          33  288419283                                         RadarScope   \n",
       "30          34  288429040                                           LinkedIn   \n",
       "31          35  289084315                              Period Tracker Deluxe   \n",
       "32          36  289446241                                  Election 2016 Map   \n",
       "33          37  289523017                          Blackjack by MobilityWare   \n",
       "34          39  289894882                                        White Noise   \n",
       "..         ...        ...                                                ...   \n",
       "70          80  299853944                                新浪新闻-阅读最新时事热门头条资讯视频   \n",
       "71          81  299949744                                        MotionX GPS   \n",
       "72          82  300048137                     AccuWeather - Weather for Life   \n",
       "73          83  300238550      Mint: Personal Finance, Budget, Bills & Money   \n",
       "74          84  300255638            ABC News - US & World News + Live Video   \n",
       "75          85  300265786                    Rowmote: Remote Control for Mac   \n",
       "76          86  300590611                                      Peekaboo Barn   \n",
       "77          87  300704847                                 Speedtest by Ookla   \n",
       "78          89  301387274                                         Pocket God   \n",
       "79          90  301521403     Nike+ Training Club - Workouts & Fitness Plans   \n",
       "80          91  301724680                                       Citi Mobile®   \n",
       "81          92  302049354                  Phase 10 Pro - Play Your Friends!   \n",
       "82          93  302584613        Kindle – Read eBooks, Magazines & Textbooks   \n",
       "83          95  303058767                                               MASH   \n",
       "84          96  303191318                                          同花顺-炒股、股票   \n",
       "85          97  303337299                                Wedding Dash Deluxe   \n",
       "86          99  303849934                                     Beer Pong Game   \n",
       "87         100  304731501                    Tempo - Metronome with Setlists   \n",
       "88         101  304770340                                               Skat   \n",
       "89         102  304871603                                       Color Splash   \n",
       "90         103  304871622                                    Zombieville USA   \n",
       "91         104  304878510                                   Skype for iPhone   \n",
       "92         105  305343404                                             Tumblr   \n",
       "93         106  305557780                                        iSwap Faces   \n",
       "94         107  305939712                            Match™ - #1 Dating App.   \n",
       "95         108  306169895                 Tozzle - Toddler's favorite puzzle   \n",
       "96         109  306257910                               HomeBudget with Sync   \n",
       "97         110  306375551                                         Wind Meter   \n",
       "98         111  306468004        Map My Run+ - GPS Running & Workout Tracker   \n",
       "99         112  306561234         Map My Ride+ - GPS Cycling & Route Tracker   \n",
       "\n",
       "    size_bytes currency  \n",
       "5     10485713      USD  \n",
       "6    227795968      USD  \n",
       "7    130242560      USD  \n",
       "8     49250304      USD  \n",
       "9     70023168      USD  \n",
       "10    49618944      USD  \n",
       "11   227547136      USD  \n",
       "12   179979264      USD  \n",
       "13   160925696      USD  \n",
       "14    55153664      USD  \n",
       "15   207907840      USD  \n",
       "16   389879808      USD  \n",
       "17   167407616      USD  \n",
       "18   147093504      USD  \n",
       "19    10735026      USD  \n",
       "20    70707916      USD  \n",
       "21     6169600      USD  \n",
       "22   130583552      USD  \n",
       "23    71203840      USD  \n",
       "24    11423008      USD  \n",
       "25   188017664      USD  \n",
       "26     4765696      USD  \n",
       "27   287933440      USD  \n",
       "28     4263936      USD  \n",
       "29   172772352      USD  \n",
       "30   273844224      USD  \n",
       "31    40216576      USD  \n",
       "32     2386944      USD  \n",
       "33   105431040      USD  \n",
       "34    44129280      USD  \n",
       "..         ...      ...  \n",
       "70   115143680      USD  \n",
       "71    56481792      USD  \n",
       "72   181941248      USD  \n",
       "73   162891776      USD  \n",
       "74    98108416      USD  \n",
       "75    54088704      USD  \n",
       "76    50155520      USD  \n",
       "77    23936000      USD  \n",
       "78   145293312      USD  \n",
       "79   140367872      USD  \n",
       "80   281244672      USD  \n",
       "81    66695168      USD  \n",
       "82   169747456      USD  \n",
       "83    41691136      USD  \n",
       "84   122886144      USD  \n",
       "85    55803904      USD  \n",
       "86   188956672      USD  \n",
       "87    22185984      USD  \n",
       "88    66160640      USD  \n",
       "89    28135424      USD  \n",
       "90    27962441      USD  \n",
       "91   133238784      USD  \n",
       "92   151573504      USD  \n",
       "93    27069440      USD  \n",
       "94   101259264      USD  \n",
       "95   168192000      USD  \n",
       "96    17485824      USD  \n",
       "97     5234688      USD  \n",
       "98   237913088      USD  \n",
       "99   233513984      USD  \n",
       "\n",
       "[95 rows x 5 columns]"
      ]
     },
     "execution_count": 42,
     "metadata": {},
     "output_type": "execute_result"
    }
   ],
   "source": [
    "data.iloc[5:100, 0:5]"
   ]
  },
  {
   "cell_type": "markdown",
   "metadata": {},
   "source": [
    "Но обычно нужно уметь отвечать на более осмысленные вопросы, например:"
   ]
  },
  {
   "cell_type": "markdown",
   "metadata": {},
   "source": [
    "* сколько приложений имеют рейтинг юзеров >= 4?"
   ]
  },
  {
   "cell_type": "code",
   "execution_count": 53,
   "metadata": {},
   "outputs": [
    {
     "data": {
      "text/plain": [
       "4781"
      ]
     },
     "execution_count": 53,
     "metadata": {},
     "output_type": "execute_result"
    }
   ],
   "source": [
    "len(data[data['user_rating'] >= 4])"
   ]
  },
  {
   "cell_type": "markdown",
   "metadata": {},
   "source": [
    "* какие есть валюты в столбце currency?"
   ]
  },
  {
   "cell_type": "code",
   "execution_count": 52,
   "metadata": {},
   "outputs": [
    {
     "data": {
      "text/plain": [
       "array(['USD'], dtype=object)"
      ]
     },
     "execution_count": 52,
     "metadata": {},
     "output_type": "execute_result"
    }
   ],
   "source": [
    "np.unique(data['currency'])"
   ]
  },
  {
   "cell_type": "markdown",
   "metadata": {},
   "source": [
    "* сколько приложений жанра Games? А тех, которые Games и рейтинг >= 4?"
   ]
  },
  {
   "cell_type": "code",
   "execution_count": 55,
   "metadata": {},
   "outputs": [
    {
     "data": {
      "text/plain": [
       "3862"
      ]
     },
     "execution_count": 55,
     "metadata": {},
     "output_type": "execute_result"
    }
   ],
   "source": [
    "# 1\n",
    "len(data[data['prime_genre'] == 'Games'])"
   ]
  },
  {
   "cell_type": "code",
   "execution_count": 56,
   "metadata": {},
   "outputs": [
    {
     "data": {
      "text/plain": [
       "2868"
      ]
     },
     "execution_count": 56,
     "metadata": {},
     "output_type": "execute_result"
    }
   ],
   "source": [
    "# 2\n",
    "len(data[(data['user_rating'] >= 4) & (data['prime_genre'] == 'Games')])"
   ]
  },
  {
   "cell_type": "markdown",
   "metadata": {},
   "source": [
    "Оператор \"ИЛИ\" аналогично &, только он через |"
   ]
  },
  {
   "cell_type": "code",
   "execution_count": 57,
   "metadata": {},
   "outputs": [
    {
     "data": {
      "text/plain": [
       "5775"
      ]
     },
     "execution_count": 57,
     "metadata": {},
     "output_type": "execute_result"
    }
   ],
   "source": [
    "len(data[(data['user_rating'] >= 4) | (data['prime_genre'] == 'Games')])"
   ]
  },
  {
   "cell_type": "markdown",
   "metadata": {},
   "source": [
    "---"
   ]
  },
  {
   "cell_type": "markdown",
   "metadata": {},
   "source": [
    "#### Задание 1"
   ]
  },
  {
   "cell_type": "markdown",
   "metadata": {},
   "source": [
    "Получите ответ на следующие вопросы (с помощью pandas):\n",
    "\n",
    "1). Сколько всего жанров и какие они?  \n",
    "2). Сколько суммарно байт весят все приложения жанра Finance?  \n",
    "3). Сколько всего бесплатных приложений, у которых рейтинг юзеров больше трёх?  \n",
    "4). Есть ли приложения, которые стоят больше 100 долларов?"
   ]
  },
  {
   "cell_type": "code",
   "execution_count": null,
   "metadata": {
    "collapsed": true
   },
   "outputs": [],
   "source": [
    "# Ваш код здесь"
   ]
  },
  {
   "cell_type": "markdown",
   "metadata": {},
   "source": [
    "---"
   ]
  },
  {
   "cell_type": "markdown",
   "metadata": {},
   "source": [
    "Часто надо сделать что-то такое:"
   ]
  },
  {
   "cell_type": "code",
   "execution_count": 19,
   "metadata": {
    "collapsed": true
   },
   "outputs": [],
   "source": [
    "import numpy as np"
   ]
  },
  {
   "cell_type": "code",
   "execution_count": 20,
   "metadata": {},
   "outputs": [
    {
     "data": {
      "text/plain": [
       "array([100788224, 158578688, 100524032, ..., 111322112,  97235968,\n",
       "        90898432], dtype=int64)"
      ]
     },
     "execution_count": 20,
     "metadata": {},
     "output_type": "execute_result"
    }
   ],
   "source": [
    "np.array(data['size_bytes'])"
   ]
  },
  {
   "cell_type": "markdown",
   "metadata": {},
   "source": [
    "То есть взять столбец из таблицы и засунуть его в np.array(). Это можно сделать и просто обратившись к .values, ведь его тип и есть np.array:"
   ]
  },
  {
   "cell_type": "code",
   "execution_count": 21,
   "metadata": {},
   "outputs": [
    {
     "data": {
      "text/plain": [
       "numpy.ndarray"
      ]
     },
     "execution_count": 21,
     "metadata": {},
     "output_type": "execute_result"
    }
   ],
   "source": [
    "type(data['size_bytes'].values)"
   ]
  },
  {
   "cell_type": "markdown",
   "metadata": {},
   "source": [
    "Больше про pandas можно найти по этом полезным ссылкам:"
   ]
  },
  {
   "cell_type": "markdown",
   "metadata": {},
   "source": [
    "* Официальные туториалы: http://pandas.pydata.org/pandas-docs/stable/tutorials.html"
   ]
  },
  {
   "cell_type": "markdown",
   "metadata": {},
   "source": [
    "* Статья на Хабре от OpenDataScience сообщества: https://habr.com/company/ods/blog/322626/"
   ]
  },
  {
   "cell_type": "markdown",
   "metadata": {},
   "source": [
    "* Подробный гайд: https://media.readthedocs.org/pdf/pandasguide/latest/pandasguide.pdf"
   ]
  },
  {
   "cell_type": "markdown",
   "metadata": {},
   "source": [
    "Главное в работе с новыми библиотеками -- не бояться тыкать в разные функции, смотреть типы возвращаемых объектов и активно пользоваться Яндексом, а ещё лучше понимать всё из docstring'а (`Shift+Tab` при нахождении курсора внутри скобок функции)."
   ]
  }
 ],
 "metadata": {
  "kernelspec": {
   "display_name": "Python 3",
   "language": "python",
   "name": "python3"
  },
  "language_info": {
   "codemirror_mode": {
    "name": "ipython",
    "version": 3
   },
   "file_extension": ".py",
   "mimetype": "text/x-python",
   "name": "python",
   "nbconvert_exporter": "python",
   "pygments_lexer": "ipython3",
   "version": "3.6.3"
  },
  "toc": {
   "base_numbering": 1,
   "nav_menu": {},
   "number_sections": true,
   "sideBar": true,
   "skip_h1_title": false,
   "title_cell": "Table of Contents",
   "title_sidebar": "Contents",
   "toc_cell": false,
   "toc_position": {},
   "toc_section_display": true,
   "toc_window_display": false
  },
  "varInspector": {
   "cols": {
    "lenName": 16,
    "lenType": 16,
    "lenVar": 40
   },
   "kernels_config": {
    "python": {
     "delete_cmd_postfix": "",
     "delete_cmd_prefix": "del ",
     "library": "var_list.py",
     "varRefreshCmd": "print(var_dic_list())"
    },
    "r": {
     "delete_cmd_postfix": ") ",
     "delete_cmd_prefix": "rm(",
     "library": "var_list.r",
     "varRefreshCmd": "cat(var_dic_list()) "
    }
   },
   "types_to_exclude": [
    "module",
    "function",
    "builtin_function_or_method",
    "instance",
    "_Feature"
   ],
   "window_display": false
  }
 },
 "nbformat": 4,
 "nbformat_minor": 2
}
